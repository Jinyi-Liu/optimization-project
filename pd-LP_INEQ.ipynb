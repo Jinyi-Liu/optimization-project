{
 "cells": [
  {
   "attachments": {},
   "cell_type": "markdown",
   "metadata": {},
   "source": [
    "Primal problem:\n",
    "$$\\min c^T x \\quad\\text{subject to}\\quad Ax=b, -x\\leq 0.$$\n",
    "\n",
    "Dual problem:\n",
    "$$\\max b^T y \\quad\\text{subject to}\\quad A^Ty\\leq c.$$"
   ]
  },
  {
   "cell_type": "code",
   "execution_count": 8,
   "metadata": {
    "ExecuteTime": {
     "end_time": "2023-04-25T20:30:32.620906Z",
     "start_time": "2023-04-25T20:30:32.613602Z"
    },
    "vscode": {
     "languageId": "python"
    }
   },
   "outputs": [],
   "source": [
    "import numpy as np"
   ]
  },
  {
   "cell_type": "code",
   "execution_count": 9,
   "metadata": {
    "ExecuteTime": {
     "end_time": "2023-04-25T20:30:32.621472Z",
     "start_time": "2023-04-25T20:30:32.618676Z"
    },
    "vscode": {
     "languageId": "python"
    }
   },
   "outputs": [],
   "source": [
    "# m: number of constraints\n",
    "# n: number of variables\n",
    "m = 50\n",
    "n = 100\n",
    "\n",
    "A = np.random.randn(m, n)\n",
    "x0 = np.random.random(n)\n",
    "b = A.dot(x0)\n",
    "z = np.random.randn(m)\n",
    "s = 10*np.random.random(n)\n",
    "\n",
    "# This is to make sure that the dual problem is feasible in interior since A.T @ z < c.\n",
    "c = A.T.dot(z) + s"
   ]
  },
  {
   "cell_type": "code",
   "execution_count": 10,
   "metadata": {
    "vscode": {
     "languageId": "python"
    }
   },
   "outputs": [
    {
     "name": "stdout",
     "output_type": "stream",
     "text": [
      "[0.71293023 0.89826209 0.51418545 0.89813222 0.41482105 0.32036766\n",
      " 0.49077246 0.41719171 0.88785186 0.04132433 0.05180415 0.76038737\n",
      " 0.50309949 0.26521362 0.34107609 0.56734863 0.75872426 0.2493983\n",
      " 0.00477283 0.28783023 0.19028056 0.81455969 0.6609955  0.12235089\n",
      " 0.59266862 0.1112112  0.6524975  0.70844742 0.04315402 0.5557615\n",
      " 0.67521984 0.32299484 0.00350825 0.25640881 0.08367344 0.93809604\n",
      " 0.76658297 0.15578559 0.23349594 0.5418264  0.35956976 0.76642714\n",
      " 0.69792854 0.12338252 0.00351007 0.5702551  0.83023413 0.65975707\n",
      " 0.77884686 0.71583923 0.54672609 0.1056174  0.5269637  0.70364762\n",
      " 0.78462248 0.56758224 0.78694155 0.93886385 0.00818485 0.41740253\n",
      " 0.08635118 0.00868157 0.69975535 0.36280831 0.70516241 0.84408403\n",
      " 0.83486425 0.15132324 0.12141933 0.48599298 0.33905536 0.84772746\n",
      " 0.95256415 0.46918491 0.14372483 0.08550153 0.51146232 0.13708524\n",
      " 0.5600333  0.96388544 0.58948538 0.5714311  0.75239809 0.00712361\n",
      " 0.16105316 0.52881675 0.78356953 0.81751609 0.11497392 0.24287548\n",
      " 0.57133818 0.87844003 0.21459694 0.75071298 0.06212514 0.64510753\n",
      " 0.93080221 0.85937973 0.45590521 0.45867101]\n"
     ]
    }
   ],
   "source": [
    "print(x0)"
   ]
  },
  {
   "cell_type": "code",
   "execution_count": 11,
   "metadata": {
    "ExecuteTime": {
     "end_time": "2023-04-25T20:30:32.625330Z",
     "start_time": "2023-04-25T20:30:32.622033Z"
    },
    "vscode": {
     "languageId": "python"
    }
   },
   "outputs": [],
   "source": [
    "def get_res(x, lambda_, v, tinv):\n",
    "    r_dual = Df.dot(lambda_) + A.T.dot(v)+c\n",
    "    r_cent = -np.diag(lambda_)@f(x) - tinv\n",
    "    r_pri = A.dot(x)-b\n",
    "    return r_dual, r_cent, r_pri\n",
    "\n",
    "def get_res_norm(x, lambda_, v, tinv):\n",
    "    r_dual, r_cent, r_pri = get_res(x, lambda_, v, tinv)\n",
    "    return np.linalg.norm(r_dual), np.linalg.norm(r_cent), np.linalg.norm(r_pri)"
   ]
  },
  {
   "cell_type": "code",
   "execution_count": 12,
   "metadata": {
    "ExecuteTime": {
     "end_time": "2023-04-25T20:30:32.692928Z",
     "start_time": "2023-04-25T20:30:32.637671Z"
    },
    "vscode": {
     "languageId": "python"
    }
   },
   "outputs": [
    {
     "name": "stdout",
     "output_type": "stream",
     "text": [
      "3.830031270967646e-09 2.661453620111205e-14 39\n"
     ]
    }
   ],
   "source": [
    "MAXITERS = 500\n",
    "TOL = 1e-8\n",
    "RESTOL = 1e-8\n",
    "mu = 10\n",
    "alpha = 0.01\n",
    "beta = 0.5\n",
    "gaps = []\n",
    "resdls = []\n",
    "x = x0\n",
    "f = lambda x: -x\n",
    "Df = -np.eye(n)\n",
    "lambda_ = -1 / (f(x))\n",
    "v = np.zeros(m)\n",
    "\n",
    "for iters in range(MAXITERS):\n",
    "    # Surrogate duality gap\n",
    "    ita = - f(x).dot(lambda_)\n",
    "    gaps.append(ita)\n",
    "    tinv = ita/(m*mu)\n",
    "    # residual\n",
    "    # r_dual = Df.dot(lambda_) + A.T.dot(v)+c\n",
    "    # r_cent = -np.diag(lambda_)@f(x) - tinv\n",
    "    # r_pri = A.dot(x)-b\n",
    "    r_dual, r_cent, r_pri = get_res(x, lambda_, v, tinv)\n",
    "    resdls.append(np.linalg.norm(np.hstack([r_dual, r_pri])))\n",
    "    # stopping criterion\n",
    "    if ita < TOL and np.linalg.norm(np.hstack([r_dual, r_pri])) < RESTOL:\n",
    "        break\n",
    "    \n",
    "    sol = -np.linalg.solve(\n",
    "        np.block([[np.zeros((n, n)), Df.T, A.T],\n",
    "                  [-np.diag(lambda_)@Df, -np.diag(f(x)), np.zeros((n, m))],\n",
    "                  [A, np.zeros((m, m)), np.zeros((m, n))]]),\n",
    "        np.hstack([r_dual, r_cent, r_pri])\n",
    "    )\n",
    "    dx = sol[:n]\n",
    "    dlambda_ = sol[n:n+n]\n",
    "    dv = sol[-m:]\n",
    "\n",
    "    # backtracking line search\n",
    "    # The maximum step such that the new lambda_ is positive, i.e., feasible.\n",
    "    step = min(1, 0.99/np.max(-dlambda_/lambda_))\n",
    "    while True:\n",
    "        x_new = x + step*dx\n",
    "        if np.all(f(x_new) < 0):\n",
    "            break\n",
    "        step *= beta\n",
    "\n",
    "    new_x = x + step*dx\n",
    "    new_lambda_ = lambda_ + step*dlambda_\n",
    "    new_v = v + step*dv\n",
    "    \n",
    "    # Old residual norm\n",
    "    old_norm = sum(get_res_norm(x, lambda_, v, tinv))\n",
    "\n",
    "    while sum(get_res_norm(new_x, new_lambda_, new_v, tinv)) > (1- alpha * step) * old_norm:\n",
    "        step *= beta\n",
    "        new_x = x + step*dx\n",
    "        new_lambda_ = lambda_ + step*dlambda_\n",
    "        new_v = v + step*dv\n",
    "\n",
    "    x = new_x\n",
    "    lambda_ = new_lambda_\n",
    "    v = new_v\n",
    "\n",
    "print(gaps[-1], resdls[-1], iters)\n",
    "    "
   ]
  },
  {
   "cell_type": "code",
   "execution_count": 13,
   "metadata": {
    "vscode": {
     "languageId": "python"
    }
   },
   "outputs": [
    {
     "name": "stdout",
     "output_type": "stream",
     "text": [
      "[6.64818558e-01 6.87000730e-01 2.32406990e-01 6.81042780e-12\n",
      " 4.44717322e-12 7.96416306e-12 3.75265599e-12 1.41316970e+00\n",
      " 6.86604197e-12 2.45712829e-11 5.05658561e-01 1.89590843e-09\n",
      " 8.60077572e-12 1.21763324e-11 9.88800701e-12 2.60482527e-01\n",
      " 1.03174402e+00 2.83118401e-01 7.66245168e-12 1.68015457e-11\n",
      " 4.97303184e-12 1.76164404e+00 8.07585949e-12 2.44719292e-10\n",
      " 2.54438355e-01 7.39705349e-01 4.36375993e-01 2.19739476e-01\n",
      " 2.23641645e-01 3.17081259e-11 5.52666059e-01 3.08596506e-12\n",
      " 3.59677645e-12 3.77205165e-01 2.19272630e-11 1.42440477e+00\n",
      " 3.84041447e-01 7.87699509e-01 9.82838792e-02 1.42240595e+00\n",
      " 1.11121224e+00 1.19395524e-11 6.56933604e-01 7.96874216e-01\n",
      " 4.15727300e-01 3.50290245e-12 4.89852083e-01 1.41782357e-11\n",
      " 2.51188252e+00 1.28409147e-01 6.47446536e-12 1.06135345e-11\n",
      " 9.25179824e-10 1.39963377e-11 4.36362210e-01 4.41601716e-12\n",
      " 1.30009185e+00 2.17071333e-01 8.41417721e-12 2.03836555e-11\n",
      " 3.67622377e-12 2.78109130e-12 9.83666271e-02 6.50288464e-01\n",
      " 1.01999192e-01 7.02663695e-12 1.24815519e-11 9.17174905e-12\n",
      " 3.32477105e-12 9.83843541e-12 6.51851261e-12 1.48381598e-11\n",
      " 1.31941407e+00 5.81746000e-12 1.47789012e-11 1.18687171e-11\n",
      " 3.42732770e-12 2.73165079e-12 5.10574297e-10 1.25484828e+00\n",
      " 1.32103457e+00 8.10553880e-01 6.65826010e-01 3.06957848e-01\n",
      " 6.05631667e-02 4.26530481e-12 4.43186648e-12 4.13741758e-02\n",
      " 2.28518207e-11 1.68282011e-01 1.31519959e-11 1.64098683e+00\n",
      " 2.12269618e-12 3.14257114e-01 1.58206674e-11 9.72619084e-01\n",
      " 1.16991497e+00 8.55759493e-01 8.78598513e-01 5.11145136e-01]\n"
     ]
    }
   ],
   "source": [
    "print(x)"
   ]
  },
  {
   "attachments": {},
   "cell_type": "markdown",
   "metadata": {},
   "source": [
    "## Solve by Log-barrier method\n",
    "In this case, we have the problem\n",
    "$$\\min t c^T x-log(x)\\quad \\text{subject to}\\quad  Ax=b$$"
   ]
  },
  {
   "cell_type": "code",
   "execution_count": 14,
   "metadata": {
    "ExecuteTime": {
     "end_time": "2023-04-25T20:30:32.696768Z",
     "start_time": "2023-04-25T20:30:32.692390Z"
    },
    "vscode": {
     "languageId": "python"
    }
   },
   "outputs": [],
   "source": [
    "from newton import newton_eq\n"
   ]
  },
  {
   "cell_type": "code",
   "execution_count": 15,
   "metadata": {
    "ExecuteTime": {
     "end_time": "2023-04-25T20:30:34.319790Z",
     "start_time": "2023-04-25T20:30:32.697291Z"
    },
    "vscode": {
     "languageId": "python"
    }
   },
   "outputs": [
    {
     "name": "stdout",
     "output_type": "stream",
     "text": [
      "Iteration: 0, decrement: 10032.695561\n",
      "Iteration: 1, decrement: 2624.523353\n",
      "Iteration: 2, decrement: 698.389809\n",
      "Iteration: 3, decrement: 125.625318\n",
      "Iteration: 4, decrement: 24.939765\n",
      "Iteration: 5, decrement: 8.829377\n",
      "Iteration: 6, decrement: 5.958450\n",
      "Iteration: 7, decrement: 2.692619\n",
      "Iteration: 8, decrement: 2.033355\n",
      "Iteration: 9, decrement: 1.934347\n",
      "Iteration: 10, decrement: 0.186938\n",
      "Iteration: 11, decrement: 0.005293\n",
      "Iteration: 12, decrement: 0.000019\n",
      "Iteration: 0, decrement: 2037.786831\n",
      "Iteration: 1, decrement: 196.327503\n",
      "Iteration: 2, decrement: 7.667300\n",
      "Iteration: 3, decrement: 2.956204\n",
      "Iteration: 4, decrement: 0.621368\n",
      "Iteration: 5, decrement: 0.058405\n",
      "Iteration: 6, decrement: 0.001358\n",
      "Iteration: 0, decrement: 1898.415369\n",
      "Iteration: 1, decrement: 186.971912\n",
      "Iteration: 2, decrement: 1.096973\n",
      "Iteration: 3, decrement: 0.135992\n",
      "Iteration: 4, decrement: 0.015232\n",
      "Iteration: 5, decrement: 0.000228\n",
      "Iteration: 0, decrement: 1974.771067\n",
      "Iteration: 1, decrement: 41.751164\n",
      "Iteration: 2, decrement: 1.487211\n",
      "Iteration: 3, decrement: 0.214451\n",
      "Iteration: 4, decrement: 0.030548\n",
      "Iteration: 5, decrement: 0.001454\n",
      "Iteration: 0, decrement: 2014.574380\n",
      "Iteration: 1, decrement: 11.236726\n",
      "Iteration: 2, decrement: 5.918722\n",
      "Iteration: 3, decrement: 1.440464\n",
      "Iteration: 4, decrement: 0.094161\n",
      "Iteration: 5, decrement: 0.000773\n",
      "Iteration: 0, decrement: 2025.780771\n",
      "Iteration: 1, decrement: 11.068876\n",
      "Iteration: 2, decrement: 4.911126\n",
      "Iteration: 3, decrement: 0.974009\n",
      "Iteration: 4, decrement: 0.039906\n",
      "Iteration: 5, decrement: 0.000089\n",
      "Iteration: 6, decrement: 0.000089\n",
      "Iteration: 0, decrement: 2025.102786\n",
      "Iteration: 1, decrement: 11.019561\n",
      "Iteration: 2, decrement: 4.857403\n",
      "Iteration: 3, decrement: 0.943913\n",
      "Iteration: 4, decrement: 0.035661\n",
      "Iteration: 5, decrement: 0.035661\n",
      "Iteration: 6, decrement: 0.035661\n",
      "Iteration: 7, decrement: 0.035661\n",
      "Iteration: 8, decrement: 0.000051\n",
      "Iteration: 0, decrement: 2025.002973\n",
      "Iteration: 1, decrement: 11.011888\n",
      "Iteration: 2, decrement: 4.850469\n",
      "Iteration: 3, decrement: 0.941083\n",
      "Iteration: 4, decrement: 0.035426\n",
      "Iteration: 5, decrement: 0.000050\n",
      "Iteration: 0, decrement: 2024.992182\n",
      "Iteration: 1, decrement: 2024.992180\n",
      "Iteration: 2, decrement: 2024.992177\n",
      "Iteration: 3, decrement: 11.011060\n",
      "Iteration: 4, decrement: 11.011060\n",
      "Iteration: 5, decrement: 4.849737\n",
      "Iteration: 6, decrement: 4.849737\n",
      "Iteration: 7, decrement: 4.849737\n",
      "Iteration: 8, decrement: 4.849737\n",
      "Iteration: 9, decrement: 0.940798\n",
      "Iteration: 10, decrement: 0.940798\n",
      "Iteration: 11, decrement: 0.940798\n",
      "Iteration: 12, decrement: 0.035404\n",
      "Iteration: 13, decrement: 0.035404\n",
      "Iteration: 14, decrement: 0.035404\n",
      "Iteration: 15, decrement: 0.035404\n",
      "Iteration: 16, decrement: 0.035404\n",
      "Iteration: 17, decrement: 0.000050\n"
     ]
    }
   ],
   "source": [
    "t = 10\n",
    "x_inner = x0.copy()\n",
    "while m/t > TOL:\n",
    "    f = lambda x: t*c.dot(x) - np.sum(np.log(x))\n",
    "    grad_f = lambda x: t*c - 1/x\n",
    "    nabla_f = lambda x: np.diag(1/x**2)\n",
    "\n",
    "    x = newton_eq(f, grad_f, nabla_f, x_inner, A, b, MAXITERS=50, TOL=1e-5, alpha=0.000000001, beta=0.8)\n",
    "    x_inner = x\n",
    "    t *= mu"
   ]
  },
  {
   "cell_type": "code",
   "execution_count": 16,
   "metadata": {
    "vscode": {
     "languageId": "python"
    }
   },
   "outputs": [
    {
     "name": "stdout",
     "output_type": "stream",
     "text": [
      "[6.64818222e-01 6.86979822e-01 2.32389720e-01 1.77816150e-10\n",
      " 1.16113003e-10 2.07939480e-10 9.79795769e-11 1.41315498e+00\n",
      " 1.79268202e-10 6.41541322e-10 5.05661047e-01 4.95011187e-08\n",
      " 2.24561051e-10 3.17916675e-10 2.58169885e-10 2.60468514e-01\n",
      " 1.03174632e+00 2.83142162e-01 2.00061977e-10 4.38678202e-10\n",
      " 1.29842852e-10 1.76162065e+00 2.10855805e-10 6.38947249e-09\n",
      " 2.54445681e-01 7.39687398e-01 4.36386017e-01 2.19749403e-01\n",
      " 2.23610660e-01 8.27879999e-10 5.52666770e-01 8.05726809e-11\n",
      " 9.39096575e-11 3.77229573e-01 5.72507576e-10 1.42440645e+00\n",
      " 3.84036673e-01 7.87725040e-01 9.82858853e-02 1.42240708e+00\n",
      " 1.11121251e+00 3.11734493e-10 6.56928767e-01 7.96900392e-01\n",
      " 4.15724518e-01 9.14586636e-11 4.89886494e-01 3.70185154e-10\n",
      " 2.51188814e+00 1.28391821e-01 1.69044374e-10 2.77112963e-10\n",
      " 2.41558640e-08 3.65435910e-10 4.36372810e-01 1.15299537e-10\n",
      " 1.30008322e+00 2.17078100e-01 2.19689078e-10 5.32204917e-10\n",
      " 9.59839785e-11 7.26126115e-11 9.83511574e-02 6.50265021e-01\n",
      " 1.02004600e-01 1.83461240e-10 3.25885766e-10 2.39468814e-10\n",
      " 8.68077606e-11 2.56875596e-10 1.70194421e-10 3.87415382e-10\n",
      " 1.31942751e+00 1.51890360e-10 3.85868180e-10 3.09885023e-10\n",
      " 8.94854531e-11 7.13217499e-11 1.33308037e-08 1.25484101e+00\n",
      " 1.32100622e+00 8.10571358e-01 6.65831658e-01 3.06971426e-01\n",
      " 6.05678697e-02 1.11364527e-10 1.15713353e-10 4.13959441e-02\n",
      " 5.96647196e-10 1.68277295e-01 3.43390655e-10 1.64094593e+00\n",
      " 5.54223132e-11 3.14256289e-01 4.13068050e-10 9.72608116e-01\n",
      " 1.16991068e+00 8.55783176e-01 8.78596106e-01 5.11144315e-01]\n"
     ]
    }
   ],
   "source": [
    "print(x_inner)"
   ]
  },
  {
   "attachments": {},
   "cell_type": "markdown",
   "metadata": {},
   "source": [
    "We can see that this is not stable. We need to choose alpha carefully, otherwise it will not converge. The primal-dual method is more stable than barrier method."
   ]
  }
 ],
 "metadata": {
  "kernelspec": {
   "display_name": "Python 3 (ipykernel)",
   "language": "python",
   "name": "python3"
  },
  "orig_nbformat": 4
 },
 "nbformat": 4,
 "nbformat_minor": 2
}
