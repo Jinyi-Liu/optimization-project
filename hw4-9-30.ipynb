{
 "cells": [
  {
   "attachments": {},
   "cell_type": "markdown",
   "metadata": {
    "collapsed": true
   },
   "source": [
    "$$\\min -\\sum_{1=1}^m\\log(1-a_i^T x)-\\sum_{i=1}^n\\log\\left(1-x_i^2\\right)$$"
   ]
  },
  {
   "cell_type": "code",
   "execution_count": 50,
   "metadata": {},
   "outputs": [],
   "source": [
    "import numpy as np\n",
    "from newton import newton_eq, newton,gradient_descent\n"
   ]
  },
  {
   "cell_type": "code",
   "execution_count": 51,
   "metadata": {},
   "outputs": [],
   "source": [
    "m = 50\n",
    "n = 100\n",
    "A = np.random.randn(m, n)\n",
    "b = np.ones(m)\n",
    "# x = np.random.random(n)\n",
    "# domf(x, A, b)\n",
    "f = lambda x: -np.sum(np.log(1 - A @ x)) - np.sum(np.log(1 - x**2))\n",
    "grad_f = lambda x: A.T @ (1/(1 - A @ x)) + 2*x/(1 - x**2)\n",
    "nabla_f = lambda x: A.T @ np.diag(1/(1 - A @ x)**2) @ A + np.diag(2/(1 - x**2)**2)\n",
    "def domf(x, A=A, b=b):\n",
    "    cons_1 = A @ x - b < 0\n",
    "    cons_2 = np.abs(x) - 1 < 0\n",
    "    return np.all(cons_1) and np.all(cons_2)"
   ]
  },
  {
   "cell_type": "code",
   "execution_count": 52,
   "metadata": {},
   "outputs": [
    {
     "name": "stdout",
     "output_type": "stream",
     "text": [
      "Iteration: 13, decrement: 0.0000000030\n"
     ]
    }
   ],
   "source": [
    "x_newton, decrement_newton = newton(f, grad_f, nabla_f, np.zeros(n), A, b, domf, TOL=1e-8,alpha=0.01)"
   ]
  },
  {
   "cell_type": "code",
   "execution_count": 53,
   "metadata": {},
   "outputs": [
    {
     "name": "stdout",
     "output_type": "stream",
     "text": [
      "Iteration: 56, decrement: 0.0000000033\n"
     ]
    }
   ],
   "source": [
    "x_grad, decrement_grad = gradient_descent(f, grad_f, np.zeros(n), A, b, domf, TOL=1e-8,alpha=0.1)"
   ]
  },
  {
   "attachments": {},
   "cell_type": "markdown",
   "metadata": {},
   "source": [
    "## Compare the results of the two methods\n"
   ]
  },
  {
   "cell_type": "code",
   "execution_count": null,
   "metadata": {},
   "outputs": [],
   "source": [
    "import matplotlib.pyplot as plt\n",
    "\n"
   ]
  }
 ],
 "metadata": {
  "kernelspec": {
   "display_name": "cs526",
   "language": "python",
   "name": "cs526"
  },
  "language_info": {
   "codemirror_mode": {
    "name": "ipython",
    "version": 3
   },
   "file_extension": ".py",
   "mimetype": "text/x-python",
   "name": "python",
   "nbconvert_exporter": "python",
   "pygments_lexer": "ipython3",
   "version": "3.9.16"
  }
 },
 "nbformat": 4,
 "nbformat_minor": 0
}
