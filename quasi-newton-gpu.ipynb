{
 "cells": [
  {
   "attachments": {},
   "cell_type": "markdown",
   "metadata": {},
   "source": [
    "# Quasi-Newton\n",
    "Example: $$\\min -\\sum_{1=1}^m\\log(1-a_i^T x)-\\sum_{i=1}^n\\log\\left(1-x_i^2\\right)$$"
   ]
  },
  {
   "cell_type": "code",
   "execution_count": 22,
   "metadata": {
    "vscode": {
     "languageId": "python"
    }
   },
   "outputs": [],
   "source": [
    "import numpy as np\n",
    "from newton import newton, plot_error_iter, solve_by_cvx\n"
   ]
  },
  {
   "cell_type": "code",
   "execution_count": 23,
   "metadata": {
    "vscode": {
     "languageId": "python"
    }
   },
   "outputs": [],
   "source": [
    "import torch\n",
    "\n",
    "# Set device to GPU if available, else CPU\n",
    "device = torch.device('cuda' if torch.cuda.is_available() else 'cpu')\n",
    "\n",
    "# m: number of constraints\n",
    "# n: number of variables\n",
    "m = 500\n",
    "n = 2000\n",
    "A = torch.randn(m, n, device=device, dtype=torch.float64)\n",
    "b = torch.ones(m, device=device, dtype=torch.float64)\n",
    "# f_exact = solve_by_cvx(A.cpu(),b.cpu())\n",
    "# Save A and b to file\n",
    "# np.save('A.npy', A.cpu().numpy())\n",
    "# np.save('b.npy', b.cpu().numpy())\n",
    "\n",
    "f = lambda x: -torch.sum(torch.log(1 - A @ x)) - torch.sum(torch.log(1 - x**2))\n",
    "grad_f = lambda x: A.T @ (1/(1 - A @ x)) + 2*x/(1 - x**2)\n",
    "nabla_f = lambda x: A.T @ torch.diag(1/(1 - A @ x)**2) @ A + torch.diag(2/(1 - x**2)**2)\n",
    "\n",
    "def dom_f(x, A=A, b=b):\n",
    "    cons_1 = A @ x - b < 0\n",
    "    cons_2 = torch.abs(x) - 1 < 0\n",
    "    return torch.all(cons_1) and torch.all(cons_2)\n",
    "\n",
    "\n",
    "# define optimization function\n",
    "def quasi_newton_gpu(f, grad_f, x0, domf, MAXITERS=100, TOL=1e-8,alpha = 0.01, beta = 0.8, print_iter=False, N=1, diag_only=False, decrement_func=None):\n",
    "    MAXITERS = MAXITERS\n",
    "    TOL = TOL\n",
    "    alpha = alpha\n",
    "    beta = beta\n",
    "    f, grad_f, domf = f, grad_f, domf\n",
    "    \n",
    "    x = x0.clone().to(device)\n",
    "    n = len(x)\n",
    "    \n",
    "    if not decrement_func:\n",
    "        decrement = lambda dx, B: dx @ B @ dx\n",
    "    else:\n",
    "        decrement = decrement_func\n",
    "        \n",
    "    decrement_value_list = []\n",
    "    obj_list = [f(x)]\n",
    "    x_list = [x]\n",
    "    \n",
    "    B = torch.eye(n).to(device, dtype=torch.float64)\n",
    "    B_inv = torch.eye(n).to(device, dtype=torch.float64)\n",
    "    grad = grad_f(x)\n",
    "\n",
    "    for iters in range(1, MAXITERS):\n",
    "\n",
    "        dx = -B_inv @ grad\n",
    "\n",
    "        decrement_value = decrement(dx, B)\n",
    "        decrement_value_list.append(decrement_value)\n",
    "        if decrement_value/2 < TOL:\n",
    "            break\n",
    "        t = 1\n",
    "        while not domf(x + t*dx):\n",
    "            t *= beta\n",
    "        while f(x + t*dx) > f(x) - alpha * t * decrement_value:\n",
    "            t *= beta\n",
    "\n",
    "        x += t*dx\n",
    "        grad_new = grad_f(x)\n",
    "        s = t * dx\n",
    "        y = grad_new - grad\n",
    "        \n",
    "        if iters % N == 0 and iters != 1:\n",
    "            # BFGS update rule.\n",
    "            # Update for every N iterations.\n",
    "            denom = y @ s\n",
    "            B_new = B - torch.outer(B @ s, B @ s)/(s @ B @ s) + torch.outer(y, y)/denom\n",
    "            B_inv_new = (torch.eye(n).to(device)-torch.outer(s,y)/denom).matmul(B_inv).matmul(torch.eye(n).to(device)-torch.outer(y,s)/denom) + torch.outer(s,s)/denom\n",
    "            \n",
    "            B_inv = B_inv_new\n",
    "            B = B_new\n",
    "            \n",
    "        grad = grad_new\n",
    "\n",
    "        x_list.append(x)\n",
    "        obj_list.append(f(x))\n",
    "\n",
    "    return x_list, obj_list\n"
   ]
  },
  {
   "cell_type": "code",
   "execution_count": 40,
   "metadata": {
    "vscode": {
     "languageId": "python"
    }
   },
   "outputs": [],
   "source": [
    "x0 = torch.zeros(n, device=device, dtype=torch.float64)\n",
    "x_list_quasi, obj_list_quasi = quasi_newton_gpu(f, grad_f, x0, dom_f, MAXITERS=1000, TOL=1e-8, alpha=0.01, print_iter=False, N=5, diag_only=False, decrement_func=None)"
   ]
  },
  {
   "cell_type": "code",
   "execution_count": 41,
   "metadata": {
    "vscode": {
     "languageId": "python"
    }
   },
   "outputs": [],
   "source": [
    "x_list_quasi = [x.cpu().numpy() for x in x_list_quasi]\n",
    "obj_list_quasi = [obj.cpu().numpy() for obj in obj_list_quasi]\n",
    "f_exact = obj_list_quasi[-1]"
   ]
  },
  {
   "cell_type": "code",
   "execution_count": 42,
   "metadata": {
    "vscode": {
     "languageId": "python"
    }
   },
   "outputs": [
    {
     "data": {
      "image/png": "[encoded data removed]",
      "text/plain": [
       "<Figure size 1000x500 with 1 Axes>"
      ]
     },
     "metadata": {},
     "output_type": "display_data"
    }
   ],
   "source": [
    "# Plot the error using the function plot_error_iter\n",
    "import matplotlib.pyplot as plt\n",
    "plt.figure(figsize=(10, 5))\n",
    "plot_error_iter(x_list_quasi, obj_list_quasi, f_exact, label='Quasi-Newton', color='blue')\n",
    "# plot_error_iter(x_list_newton, obj_list_newton, fx, label='Newton', color='red')\n",
    "plt.legend()\n",
    "plt.xlabel('Iteration')\n",
    "plt.ylabel('Error')\n",
    "plt.yscale('log')\n",
    "plt.show()"
   ]
  },
  {
   "cell_type": "code",
   "execution_count": null,
   "metadata": {
    "vscode": {
     "languageId": "python"
    }
   },
   "outputs": [],
   "source": []
  }
 ],
 "metadata": {
  "kernelspec": {
   "display_name": "torch3.10",
   "language": "python",
   "name": "torch3.10"
  },
  "orig_nbformat": 4
 },
 "nbformat": 4,
 "nbformat_minor": 2
}
