{
 "cells": [
  {
   "attachments": {},
   "cell_type": "markdown",
   "metadata": {},
   "source": [
    "# Quasi-Newton\n",
    "Example: $$\\min -\\sum_{1=1}^m\\log(1-a_i^T x)-\\sum_{i=1}^n\\log\\left(1-x_i^2\\right)$$"
   ]
  },
  {
   "cell_type": "code",
   "execution_count": 1,
   "metadata": {},
   "outputs": [],
   "source": [
    "import numpy as np\n",
    "from newton import newton, quasi_newton, plot_error_iter, solve_by_cvx"
   ]
  },
  {
   "cell_type": "code",
   "execution_count": 2,
   "metadata": {},
   "outputs": [],
   "source": [
    "# m: number of constraints\n",
    "# n: number of variables\n",
    "m = 500\n",
    "n = 2000\n",
    "#A = np.random.randn(m, n)\n",
    "#b = np.ones(m)\n",
    "A = np.load('A.npy')\n",
    "b = np.load('b.npy')\n",
    "\n",
    "f = lambda x: -np.sum(np.log(1 - A @ x)) - np.sum(np.log(1 - x**2))\n",
    "grad_f = lambda x: A.T @ (1/(1 - A @ x)) + 2*x/(1 - x**2)\n",
    "nabla_f = lambda x: A.T @ np.diag(1/(1 - A @ x)**2) @ A + np.diag(2/(1 - x**2)**2)\n",
    "    \n",
    "def dom_f(x, A=A, b=b):\n",
    "    cons_1 = A @ x - b < 0\n",
    "    cons_2 = np.abs(x) - 1 < 0\n",
    "    return np.all(cons_1) and np.all(cons_2)\n",
    "\n",
    "#fx = solve_by_cvx(A, b)\n"
   ]
  },
  {
   "cell_type": "code",
   "execution_count": 3,
   "metadata": {},
   "outputs": [],
   "source": [
    "x_list_newton, obj_list_newton = newton(f, grad_f, nabla_f, np.zeros(n), A, b, dom_f, MAXITERS=50, TOL=1e-8, alpha=0.01, print_iter=False)"
   ]
  },
  {
   "cell_type": "code",
   "execution_count": 5,
   "metadata": {},
   "outputs": [],
   "source": [
    "x_list_quasi, obj_list_quasi = quasi_newton(f, grad_f, np.zeros(n), dom_f, MAXITERS=1000, TOL=1e-8, alpha=0.01, print_iter=False, N=1, diag_only=False, decrement_func=None)"
   ]
  },
  {
   "cell_type": "code",
   "execution_count": 4,
   "metadata": {},
   "outputs": [
    {
     "ename": "NameError",
     "evalue": "name 'x_list_quasi' is not defined",
     "output_type": "error",
     "traceback": [
      "\u001b[0;31m---------------------------------------------------------------------------\u001b[0m",
      "\u001b[0;31mNameError\u001b[0m                                 Traceback (most recent call last)",
      "Cell \u001b[0;32mIn[4], line 4\u001b[0m\n\u001b[1;32m      2\u001b[0m \u001b[39mimport\u001b[39;00m \u001b[39mmatplotlib\u001b[39;00m\u001b[39m.\u001b[39;00m\u001b[39mpyplot\u001b[39;00m \u001b[39mas\u001b[39;00m \u001b[39mplt\u001b[39;00m\n\u001b[1;32m      3\u001b[0m plt\u001b[39m.\u001b[39mfigure(figsize\u001b[39m=\u001b[39m(\u001b[39m10\u001b[39m, \u001b[39m5\u001b[39m))\n\u001b[0;32m----> 4\u001b[0m plot_error_iter(x_list_quasi, obj_list_quasi, fx, label\u001b[39m=\u001b[39m\u001b[39m'\u001b[39m\u001b[39mQuasi-Newton\u001b[39m\u001b[39m'\u001b[39m, color\u001b[39m=\u001b[39m\u001b[39m'\u001b[39m\u001b[39mblue\u001b[39m\u001b[39m'\u001b[39m)\n\u001b[1;32m      5\u001b[0m plot_error_iter(x_list_newton, obj_list_newton, fx, label\u001b[39m=\u001b[39m\u001b[39m'\u001b[39m\u001b[39mNewton\u001b[39m\u001b[39m'\u001b[39m, color\u001b[39m=\u001b[39m\u001b[39m'\u001b[39m\u001b[39mred\u001b[39m\u001b[39m'\u001b[39m)\n\u001b[1;32m      6\u001b[0m plt\u001b[39m.\u001b[39mlegend()\n",
      "\u001b[0;31mNameError\u001b[0m: name 'x_list_quasi' is not defined"
     ]
    },
    {
     "data": {
      "text/plain": [
       "<Figure size 1000x500 with 0 Axes>"
      ]
     },
     "metadata": {},
     "output_type": "display_data"
    }
   ],
   "source": [
    "# Plot the error using the function plot_error_iter\n",
    "import matplotlib.pyplot as plt\n",
    "plt.figure(figsize=(10, 5))\n",
    "plot_error_iter(x_list_quasi, obj_list_quasi, fx, label='Quasi-Newton', color='blue')\n",
    "plot_error_iter(x_list_newton, obj_list_newton, fx, label='Newton', color='red')\n",
    "plt.legend()\n",
    "plt.xlabel('Iteration')\n",
    "plt.ylabel('Error')\n",
    "plt.yscale('log')\n",
    "plt.show()"
   ]
  },
  {
   "cell_type": "code",
   "execution_count": null,
   "metadata": {},
   "outputs": [],
   "source": []
  }
 ],
 "metadata": {
  "kernelspec": {
   "display_name": "cs526",
   "language": "python",
   "name": "cs526"
  },
  "language_info": {
   "codemirror_mode": {
    "name": "ipython",
    "version": 3
   },
   "file_extension": ".py",
   "mimetype": "text/x-python",
   "name": "python",
   "nbconvert_exporter": "python",
   "pygments_lexer": "ipython3",
   "version": "3.9.16"
  },
  "orig_nbformat": 4
 },
 "nbformat": 4,
 "nbformat_minor": 2
}
