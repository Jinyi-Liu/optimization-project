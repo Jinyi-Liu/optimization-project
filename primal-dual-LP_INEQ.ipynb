{
 "cells": [
  {
   "attachments": {},
   "cell_type": "markdown",
   "metadata": {},
   "source": [
    "Primal problem:\n",
    "$$\\min c^T x \\quad\\text{subject to}\\quad Ax=b, -x\\leq 0.$$\n",
    "\n",
    "Dual problem:\n",
    "$$\\max b^T y \\quad\\text{subject to}\\quad A^Ty\\leq c.$$"
   ]
  },
  {
   "cell_type": "code",
   "execution_count": 57,
   "metadata": {
    "ExecuteTime": {
     "end_time": "2023-04-25T20:30:32.620906Z",
     "start_time": "2023-04-25T20:30:32.613602Z"
    }
   },
   "outputs": [],
   "source": [
    "import numpy as np\n",
    "from functions import newton_eq, plot_error_iter\n",
    "import matplotlib.pyplot as plt\n",
    "import cvxpy as cp"
   ]
  },
  {
   "cell_type": "code",
   "execution_count": 58,
   "metadata": {
    "ExecuteTime": {
     "end_time": "2023-04-25T20:30:32.621472Z",
     "start_time": "2023-04-25T20:30:32.618676Z"
    }
   },
   "outputs": [],
   "source": [
    "# m: number of constraints\n",
    "# n: number of variables\n",
    "m = 50\n",
    "n = 200\n",
    "\n",
    "A = np.random.randn(m, n)\n",
    "x0 = np.random.random(n)\n",
    "b = A.dot(x0)\n",
    "z = np.random.randn(m)\n",
    "s = 1*np.random.random(n)\n",
    "\n",
    "# This is to make sure that the dual problem is feasible in interior since A.T @ z < c.\n",
    "c = A.T.dot(z) + s"
   ]
  },
  {
   "cell_type": "code",
   "execution_count": 59,
   "metadata": {},
   "outputs": [
    {
     "name": "stdout",
     "output_type": "stream",
     "text": [
      "Optimal value:  20.773942809023602\n"
     ]
    }
   ],
   "source": [
    "def cvx_solution(A, b, c)\n",
    "    x = cp.Variable(n)\n",
    "    obj = cp.Minimize(c@x)\n",
    "    cons = [A@x == b, x >= 0]\n",
    "    prob = cp.Problem(obj, cons)\n",
    "    prob.solve(solver=\"MOSEK\")\n",
    "    return prob.value"
   ]
  },
  {
   "cell_type": "code",
   "execution_count": 60,
   "metadata": {
    "ExecuteTime": {
     "end_time": "2023-04-25T20:30:32.625330Z",
     "start_time": "2023-04-25T20:30:32.622033Z"
    }
   },
   "outputs": [],
   "source": [
    "def get_res(x, lambda_, v, tinv, grad_f):\n",
    "    r_dual = Dh(x).dot(lambda_) + A.T.dot(v) + grad_f(x)\n",
    "    r_cent = -np.diag(lambda_)@h(x) - tinv\n",
    "    r_pri = A.dot(x)-b\n",
    "    return r_dual, r_cent, r_pri\n",
    "\n",
    "def get_res_norm(x, lambda_, v, tinv, grad_f):\n",
    "    r_dual, r_cent, r_pri = get_res(x, lambda_, v, tinv, grad_f)\n",
    "    return np.linalg.norm(r_dual), np.linalg.norm(r_cent), np.linalg.norm(r_pri)"
   ]
  },
  {
   "cell_type": "code",
   "execution_count": 61,
   "metadata": {
    "ExecuteTime": {
     "end_time": "2023-04-25T20:30:32.692928Z",
     "start_time": "2023-04-25T20:30:32.637671Z"
    }
   },
   "outputs": [],
   "source": [
    "def primal_dual(grad_f, h, Dh, H_pd, x0, A, b, MAXITERS=100, TOL=1e-8,alpha = 0.01, beta = 0.8, RESTOL=1e-8):\n",
    "    MAXITERS = MAXITERS\n",
    "    TOL = TOL\n",
    "    RESTOL = RESTOL\n",
    "    mu = 10\n",
    "    alpha = alpha\n",
    "    beta = beta\n",
    "    m, n = A.shape\n",
    "    gaps = []\n",
    "    resdls = []\n",
    "    x = x0.copy()\n",
    "    x_list = [x]\n",
    "    h = h\n",
    "    Dh = Dh\n",
    "    H_pd = H_pd\n",
    "    # Lagrange multiplier for inequality constraints\n",
    "    lambda_ = -1 / (h(x))\n",
    "    # Lagrange multiplier for equality constraints\n",
    "    v = np.zeros(m)\n",
    "\n",
    "    for iters in range(MAXITERS):\n",
    "        # Surrogate duality gap\n",
    "        ita = - h(x).dot(lambda_)\n",
    "        gaps.append(ita)\n",
    "        tinv = ita/(m*mu)\n",
    "\n",
    "        r_dual, r_cent, r_pri = get_res(x, lambda_, v, tinv, grad_f)\n",
    "        resdls.append(np.linalg.norm(np.hstack([r_dual, r_pri])))\n",
    "        # stopping criterion\n",
    "        if ita < TOL and resdls[-1] < RESTOL:\n",
    "            break\n",
    "        \n",
    "        sol = -np.linalg.solve(\n",
    "            np.block([[H_pd(x), Dh(x).T, A.T],\n",
    "                    [-np.diag(lambda_)@Dh(x), -np.diag(h(x)), np.zeros((n, m))],\n",
    "                    [A, np.zeros((m, m)), np.zeros((m, n))]]),\n",
    "            np.hstack([r_dual, r_cent, r_pri])\n",
    "        )\n",
    "        dx = sol[:n]\n",
    "        dlambda_ = sol[n:n+n]\n",
    "        dv = sol[-m:]\n",
    "\n",
    "        # backtracking line search\n",
    "        # The maximum step such that the new lambda_ is positive, i.e., feasible.\n",
    "        step = min(1, 0.99/np.max(-dlambda_/lambda_))\n",
    "        while True:\n",
    "            x_new = x + step*dx\n",
    "            if np.all(h(x_new) < 0):\n",
    "                break\n",
    "            step *= beta\n",
    "\n",
    "        new_x = x + step*dx\n",
    "        new_lambda_ = lambda_ + step*dlambda_\n",
    "        new_v = v + step*dv\n",
    "        \n",
    "        # Old residual norm\n",
    "        old_norm = sum(get_res_norm(x, lambda_, v, tinv, grad_f))\n",
    "\n",
    "        while sum(get_res_norm(new_x, new_lambda_, new_v, tinv, grad_f)) > (1- alpha * step) * old_norm:\n",
    "            step *= beta\n",
    "            new_x = x + step*dx\n",
    "            new_lambda_ = lambda_ + step*dlambda_\n",
    "            new_v = v + step*dv\n",
    "\n",
    "        x = new_x\n",
    "        lambda_ = new_lambda_\n",
    "        v = new_v\n",
    "        x_list.append(x)\n",
    "    return x_list\n"
   ]
  },
  {
   "cell_type": "code",
   "execution_count": 62,
   "metadata": {},
   "outputs": [],
   "source": [
    "grad_f = lambda x: c\n",
    "h = lambda x: -x\n",
    "Dh = lambda x: -np.eye(len(x))\n",
    "H_pd = lambda x: np.zeros((len(x), len(x)))\n",
    "x_list = primal_dual(grad_f, h, Dh, H_pd, x0.copy(), A, b, MAXITERS=100, TOL=1e-8,alpha = 0.01, beta = 0.8, RESTOL=1e-8)"
   ]
  },
  {
   "attachments": {},
   "cell_type": "markdown",
   "metadata": {},
   "source": [
    "## Solve by Log-barrier method\n",
    "In this case, we have the problem\n",
    "$$\\min t c^T x-log(x)\\quad \\text{subject to}\\quad  Ax=b$$"
   ]
  },
  {
   "cell_type": "code",
   "execution_count": 63,
   "metadata": {
    "ExecuteTime": {
     "end_time": "2023-04-25T20:30:34.319790Z",
     "start_time": "2023-04-25T20:30:32.697291Z"
    }
   },
   "outputs": [],
   "source": [
    "def log_barrier(x0, A, b, t, mu, TOL=1e-8, MAXITERS=100,  alpha=0.01, beta=0.8,print_iter=False):\n",
    "    t = t\n",
    "    x_inner = x0.copy()\n",
    "    m, n = A.shape\n",
    "    nabla_f = lambda x: np.diag(1/x**2)\n",
    "    dom_f = lambda x: np.all(x>0)\n",
    "    central_path = []\n",
    "    while m/t > TOL:\n",
    "        f = lambda x: t*c.dot(x) - np.sum(np.log(x))\n",
    "        grad_f = lambda x: t*c - 1/x\n",
    "        x_list = newton_eq(f, grad_f, nabla_f, x_inner, A, b, dom_f, MAXITERS=MAXITERS, TOL=TOL, alpha=alpha, beta=beta, print_iter=print_iter)\n",
    "        x_inner = x_list[-1]\n",
    "        t *= mu\n",
    "        central_path.append(x_inner)\n",
    "    return central_path"
   ]
  },
  {
   "cell_type": "code",
   "execution_count": 64,
   "metadata": {},
   "outputs": [],
   "source": [
    "x_lb = log_barrier(x0, A, b, t=10, mu=2, TOL=1e-8, MAXITERS=1000,  alpha=0.01, beta=0.8, print_iter=False)"
   ]
  },
  {
   "cell_type": "code",
   "execution_count": 65,
   "metadata": {},
   "outputs": [
    {
     "data": {
      "image/png": "[encoded data removed]",
      "text/plain": [
       "<Figure size 640x480 with 1 Axes>"
      ]
     },
     "metadata": {},
     "output_type": "display_data"
    }
   ],
   "source": [
    "plot_error_iter(x_lb@c, prob.value, \"Log Barrier Method\")\n",
    "# plt.ylim(1e-8, 1e2)\n",
    "plt.yscale(\"log\")"
   ]
  },
  {
   "cell_type": "code",
   "execution_count": 66,
   "metadata": {},
   "outputs": [
    {
     "data": {
      "text/plain": [
       "(-0.001402078990508926, 4.255131358377184e-09)"
      ]
     },
     "execution_count": 66,
     "metadata": {},
     "output_type": "execute_result"
    }
   ],
   "source": [
    "c@x_lb[-1]-prob.value, c@x_list[-1]- prob.value"
   ]
  }
 ],
 "metadata": {
  "kernelspec": {
   "display_name": "cs526",
   "language": "python",
   "name": "cs526"
  },
  "language_info": {
   "codemirror_mode": {
    "name": "ipython",
    "version": 3
   },
   "file_extension": ".py",
   "mimetype": "text/x-python",
   "name": "python",
   "nbconvert_exporter": "python",
   "pygments_lexer": "ipython3",
   "version": "3.9.16"
  },
  "orig_nbformat": 4
 },
 "nbformat": 4,
 "nbformat_minor": 2
}
