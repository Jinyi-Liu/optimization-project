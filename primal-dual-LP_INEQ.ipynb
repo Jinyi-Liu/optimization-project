{
 "cells": [
  {
   "attachments": {},
   "cell_type": "markdown",
   "metadata": {},
   "source": [
    "Primal problem:\n",
    "$$\\min c^T x \\quad\\text{subject to}\\quad Ax=b, -x\\leq 0.$$\n",
    "\n",
    "Dual problem:\n",
    "$$\\max b^T y \\quad\\text{subject to}\\quad A^Ty\\leq c.$$"
   ]
  },
  {
   "cell_type": "code",
   "execution_count": 1,
   "metadata": {
    "ExecuteTime": {
     "end_time": "2023-04-25T20:30:32.620906Z",
     "start_time": "2023-04-25T20:30:32.613602Z"
    }
   },
   "outputs": [],
   "source": [
    "import numpy as np"
   ]
  },
  {
   "cell_type": "code",
   "execution_count": 2,
   "metadata": {
    "ExecuteTime": {
     "end_time": "2023-04-25T20:30:32.621472Z",
     "start_time": "2023-04-25T20:30:32.618676Z"
    }
   },
   "outputs": [],
   "source": [
    "# m: number of constraints\n",
    "# n: number of variables\n",
    "m = 50\n",
    "n = 100\n",
    "\n",
    "A = np.random.randn(m, n)\n",
    "x0 = np.random.random(n)\n",
    "b = A.dot(x0)\n",
    "z = np.random.randn(m)\n",
    "s = 10*np.random.random(n)\n",
    "\n",
    "# This is to make sure that the dual problem is feasible in interior since A.T @ z < c.\n",
    "c = A.T.dot(z) + s"
   ]
  },
  {
   "cell_type": "code",
   "execution_count": 3,
   "metadata": {
    "ExecuteTime": {
     "end_time": "2023-04-25T20:30:32.625330Z",
     "start_time": "2023-04-25T20:30:32.622033Z"
    }
   },
   "outputs": [],
   "source": [
    "def get_res(x, lambda_, v, tinv, grad_f = c):\n",
    "    r_dual = Dh.dot(lambda_) + A.T.dot(v) + grad_f\n",
    "    r_cent = -np.diag(lambda_)@h(x) - tinv\n",
    "    r_pri = A.dot(x)-b\n",
    "    return r_dual, r_cent, r_pri\n",
    "\n",
    "def get_res_norm(x, lambda_, v, tinv):\n",
    "    r_dual, r_cent, r_pri = get_res(x, lambda_, v, tinv)\n",
    "    return np.linalg.norm(r_dual), np.linalg.norm(r_cent), np.linalg.norm(r_pri)"
   ]
  },
  {
   "cell_type": "code",
   "execution_count": 4,
   "metadata": {
    "ExecuteTime": {
     "end_time": "2023-04-25T20:30:32.692928Z",
     "start_time": "2023-04-25T20:30:32.637671Z"
    }
   },
   "outputs": [
    {
     "name": "stdout",
     "output_type": "stream",
     "text": [
      "4.4195361683856536e-09 3.322773662846654e-14 30\n"
     ]
    }
   ],
   "source": [
    "def primal_dual(f, grad_f, nabla_f, h, grad_h, x0, A, b, dom_f, MAXITERS=100, TOL=1e-8,alpha = 0.01, beta = 0.8, RESTOL=1e-8):\n",
    "    MAXITERS = MAXITERS\n",
    "    TOL = TOL\n",
    "    RESTOL = RESTOL\n",
    "    mu = 10\n",
    "    alpha = alpha\n",
    "    beta = beta\n",
    "    gaps = []\n",
    "    resdls = []\n",
    "    x = x0.copy()   \n",
    "    h = h\n",
    "    Dh = grad_h\n",
    "    lambda_ = -1 / (h(x))\n",
    "    v = np.zeros(m)\n",
    "\n",
    "    for iters in range(MAXITERS):\n",
    "        # Surrogate duality gap\n",
    "        ita = - h(x).dot(lambda_)\n",
    "        gaps.append(ita)\n",
    "        tinv = ita/(m*mu)\n",
    "\n",
    "        r_dual, r_cent, r_pri = get_res(x, lambda_, v, tinv)\n",
    "        resdls.append(np.linalg.norm(np.hstack([r_dual, r_pri])))\n",
    "        # stopping criterion\n",
    "        if ita < TOL and resdls[-1] < RESTOL:\n",
    "            break\n",
    "        \n",
    "        sol = -np.linalg.solve(\n",
    "            np.block([[np.zeros((n, n)), Dh.T, A.T],\n",
    "                    [-np.diag(lambda_)@Dh, -np.diag(h(x)), np.zeros((n, m))],\n",
    "                    [A, np.zeros((m, m)), np.zeros((m, n))]]),\n",
    "            np.hstack([r_dual, r_cent, r_pri])\n",
    "        )\n",
    "        dx = sol[:n]\n",
    "        dlambda_ = sol[n:n+n]\n",
    "        dv = sol[-m:]\n",
    "\n",
    "        # backtracking line search\n",
    "        # The maximum step such that the new lambda_ is positive, i.e., feasible.\n",
    "        step = min(1, 0.99/np.max(-dlambda_/lambda_))\n",
    "        while True:\n",
    "            x_new = x + step*dx\n",
    "            if np.all(h(x_new) < 0):\n",
    "                break\n",
    "            step *= beta\n",
    "\n",
    "        new_x = x + step*dx\n",
    "        new_lambda_ = lambda_ + step*dlambda_\n",
    "        new_v = v + step*dv\n",
    "        \n",
    "        # Old residual norm\n",
    "        old_norm = sum(get_res_norm(x, lambda_, v, tinv))\n",
    "\n",
    "        while sum(get_res_norm(new_x, new_lambda_, new_v, tinv)) > (1- alpha * step) * old_norm:\n",
    "            step *= beta\n",
    "            new_x = x + step*dx\n",
    "            new_lambda_ = lambda_ + step*dlambda_\n",
    "            new_v = v + step*dv\n",
    "\n",
    "        x = new_x\n",
    "        lambda_ = new_lambda_\n",
    "        v = new_v\n",
    "\n"
   ]
  },
  {
   "attachments": {},
   "cell_type": "markdown",
   "metadata": {},
   "source": [
    "## Solve by Log-barrier method\n",
    "In this case, we have the problem\n",
    "$$\\min t c^T x-log(x)\\quad \\text{subject to}\\quad  Ax=b$$"
   ]
  },
  {
   "cell_type": "code",
   "execution_count": 6,
   "metadata": {
    "ExecuteTime": {
     "end_time": "2023-04-25T20:30:32.696768Z",
     "start_time": "2023-04-25T20:30:32.692390Z"
    }
   },
   "outputs": [],
   "source": [
    "from functions import newton_eq"
   ]
  },
  {
   "cell_type": "code",
   "execution_count": 7,
   "metadata": {
    "ExecuteTime": {
     "end_time": "2023-04-25T20:30:34.319790Z",
     "start_time": "2023-04-25T20:30:32.697291Z"
    }
   },
   "outputs": [],
   "source": [
    "t = 10\n",
    "x_inner = x0.copy()\n",
    "while m/t > TOL:\n",
    "    f = lambda x: t*c.dot(x) - np.sum(np.log(x))\n",
    "    grad_f = lambda x: t*c - 1/x\n",
    "    nabla_f = lambda x: np.diag(1/x**2)\n",
    "\n",
    "    x_list, fx_list = newton_eq(f, grad_f, nabla_f, x_inner, A, b, dom_f=lambda x:np.all(x>0), MAXITERS=50, TOL=1e-5, alpha=0.001, beta=0.8)\n",
    "    x_inner = x_list[-1]\n",
    "    t *= mu"
   ]
  }
 ],
 "metadata": {
  "kernelspec": {
   "display_name": "cs526",
   "language": "python",
   "name": "cs526"
  },
  "language_info": {
   "codemirror_mode": {
    "name": "ipython",
    "version": 3
   },
   "file_extension": ".py",
   "mimetype": "text/x-python",
   "name": "python",
   "nbconvert_exporter": "python",
   "pygments_lexer": "ipython3",
   "version": "3.9.16"
  },
  "orig_nbformat": 4
 },
 "nbformat": 4,
 "nbformat_minor": 2
}
