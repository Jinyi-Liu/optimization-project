{
 "cells": [
  {
   "attachments": {},
   "cell_type": "markdown",
   "metadata": {},
   "source": [
    "Primal problem:\n",
    "$$\\min c^T x \\quad\\text{subject to}\\quad Ax=b, -x\\leq 0.$$\n",
    "\n",
    "Dual problem:\n",
    "$$\\max b^T y \\quad\\text{subject to}\\quad A^Ty\\leq c.$$"
   ]
  },
  {
   "cell_type": "code",
   "execution_count": 1,
   "metadata": {
    "ExecuteTime": {
     "end_time": "2023-04-25T20:30:32.620906Z",
     "start_time": "2023-04-25T20:30:32.613602Z"
    }
   },
   "outputs": [],
   "source": [
    "import numpy as np"
   ]
  },
  {
   "cell_type": "code",
   "execution_count": 2,
   "metadata": {
    "ExecuteTime": {
     "end_time": "2023-04-25T20:30:32.621472Z",
     "start_time": "2023-04-25T20:30:32.618676Z"
    }
   },
   "outputs": [],
   "source": [
    "# m: number of constraints\n",
    "# n: number of variables\n",
    "m = 50\n",
    "n = 100\n",
    "\n",
    "A = np.random.randn(m, n)\n",
    "x0 = np.random.random(n)\n",
    "b = A.dot(x0)\n",
    "z = np.random.randn(m)\n",
    "s = 10*np.random.random(n)\n",
    "\n",
    "# This is to make sure that the dual problem is feasible in interior since A.T @ z < c.\n",
    "c = A.T.dot(z) + s"
   ]
  },
  {
   "cell_type": "code",
   "execution_count": 3,
   "metadata": {},
   "outputs": [
    {
     "name": "stdout",
     "output_type": "stream",
     "text": [
      "[0.65035492 0.67323186 0.92816192 0.8983248  0.19399717 0.17515678\n",
      " 0.17698747 0.19413147 0.50102568 0.72094717 0.80311328 0.60901472\n",
      " 0.57699864 0.42431449 0.92183004 0.51432713 0.04223328 0.90957967\n",
      " 0.08167692 0.0189576  0.81506351 0.49237968 0.05970939 0.75576439\n",
      " 0.95132872 0.82619471 0.48542277 0.01314421 0.05607176 0.88051122\n",
      " 0.36068977 0.62217619 0.87654355 0.80636436 0.91126604 0.32263736\n",
      " 0.15223093 0.17186548 0.40352169 0.22049532 0.79015087 0.28535272\n",
      " 0.03601753 0.04335408 0.33829155 0.97531354 0.24501444 0.3270161\n",
      " 0.6995667  0.53474809 0.38738913 0.11783893 0.91338791 0.23005885\n",
      " 0.24706215 0.60718321 0.61198209 0.70566917 0.19819126 0.53817014\n",
      " 0.03773666 0.25438054 0.18346697 0.01069069 0.44342813 0.07124649\n",
      " 0.22654871 0.36261557 0.90174207 0.3255434  0.40489857 0.25787734\n",
      " 0.14471045 0.73222662 0.77679616 0.21621091 0.146507   0.48077833\n",
      " 0.10453449 0.12407576 0.30130278 0.4212824  0.68416816 0.43757223\n",
      " 0.06133599 0.95307062 0.31791681 0.19146074 0.10719891 0.30277759\n",
      " 0.9172721  0.55555753 0.83908349 0.99056526 0.69091326 0.02919248\n",
      " 0.3278217  0.7406952  0.11466368 0.60605237]\n"
     ]
    }
   ],
   "source": [
    "print(x0)"
   ]
  },
  {
   "cell_type": "code",
   "execution_count": 4,
   "metadata": {
    "ExecuteTime": {
     "end_time": "2023-04-25T20:30:32.625330Z",
     "start_time": "2023-04-25T20:30:32.622033Z"
    }
   },
   "outputs": [],
   "source": [
    "def get_res(x, lambda_, v, tinv):\n",
    "    r_dual = Df.dot(lambda_) + A.T.dot(v)+c\n",
    "    r_cent = -np.diag(lambda_)@f(x) - tinv\n",
    "    r_pri = A.dot(x)-b\n",
    "    return r_dual, r_cent, r_pri\n",
    "\n",
    "def get_res_norm(x, lambda_, v, tinv):\n",
    "    r_dual, r_cent, r_pri = get_res(x, lambda_, v, tinv)\n",
    "    return np.linalg.norm(r_dual), np.linalg.norm(r_cent), np.linalg.norm(r_pri)"
   ]
  },
  {
   "cell_type": "code",
   "execution_count": 5,
   "metadata": {
    "ExecuteTime": {
     "end_time": "2023-04-25T20:30:32.692928Z",
     "start_time": "2023-04-25T20:30:32.637671Z"
    }
   },
   "outputs": [
    {
     "name": "stdout",
     "output_type": "stream",
     "text": [
      "2.329661098059594e-09 3.6722881741864484e-14 28\n"
     ]
    }
   ],
   "source": [
    "MAXITERS = 500\n",
    "TOL = 1e-8\n",
    "RESTOL = 1e-8\n",
    "mu = 10\n",
    "alpha = 0.01\n",
    "beta = 0.5\n",
    "gaps = []\n",
    "resdls = []\n",
    "x = x0\n",
    "f = lambda x: -x\n",
    "Df = -np.eye(n)\n",
    "lambda_ = -1 / (f(x))\n",
    "v = np.zeros(m)\n",
    "\n",
    "for iters in range(MAXITERS):\n",
    "    # Surrogate duality gap\n",
    "    ita = - f(x).dot(lambda_)\n",
    "    gaps.append(ita)\n",
    "    tinv = ita/(m*mu)\n",
    "\n",
    "    r_dual, r_cent, r_pri = get_res(x, lambda_, v, tinv)\n",
    "    resdls.append(np.linalg.norm(np.hstack([r_dual, r_pri])))\n",
    "    # stopping criterion\n",
    "    if ita < TOL and np.linalg.norm(np.hstack([r_dual, r_pri])) < RESTOL:\n",
    "        break\n",
    "    \n",
    "    sol = -np.linalg.solve(\n",
    "        np.block([[np.zeros((n, n)), Df.T, A.T],\n",
    "                  [-np.diag(lambda_)@Df, -np.diag(f(x)), np.zeros((n, m))],\n",
    "                  [A, np.zeros((m, m)), np.zeros((m, n))]]),\n",
    "        np.hstack([r_dual, r_cent, r_pri])\n",
    "    )\n",
    "    dx = sol[:n]\n",
    "    dlambda_ = sol[n:n+n]\n",
    "    dv = sol[-m:]\n",
    "\n",
    "    # backtracking line search\n",
    "    # The maximum step such that the new lambda_ is positive, i.e., feasible.\n",
    "    step = min(1, 0.99/np.max(-dlambda_/lambda_))\n",
    "    while True:\n",
    "        x_new = x + step*dx\n",
    "        if np.all(f(x_new) < 0):\n",
    "            break\n",
    "        step *= beta\n",
    "\n",
    "    new_x = x + step*dx\n",
    "    new_lambda_ = lambda_ + step*dlambda_\n",
    "    new_v = v + step*dv\n",
    "    \n",
    "    # Old residual norm\n",
    "    old_norm = sum(get_res_norm(x, lambda_, v, tinv))\n",
    "\n",
    "    while sum(get_res_norm(new_x, new_lambda_, new_v, tinv)) > (1- alpha * step) * old_norm:\n",
    "        step *= beta\n",
    "        new_x = x + step*dx\n",
    "        new_lambda_ = lambda_ + step*dlambda_\n",
    "        new_v = v + step*dv\n",
    "\n",
    "    x = new_x\n",
    "    lambda_ = new_lambda_\n",
    "    v = new_v\n",
    "\n",
    "print(gaps[-1], resdls[-1], iters)\n",
    "    "
   ]
  },
  {
   "cell_type": "code",
   "execution_count": 6,
   "metadata": {},
   "outputs": [
    {
     "name": "stdout",
     "output_type": "stream",
     "text": [
      "[1.36077222e+00 1.49012773e-02 9.80010908e-01 2.11156505e+00\n",
      " 4.31982780e-12 1.22786475e+00 4.70934287e-11 1.38224667e-12\n",
      " 1.24913594e-11 1.12428746e-01 7.19087563e-12 1.37300016e+00\n",
      " 2.92015627e-12 5.31329969e-12 7.69883127e-03 4.39783710e-12\n",
      " 4.83275704e-09 1.25979533e-11 1.70621125e-01 3.13462491e-02\n",
      " 1.35165868e+00 1.37260497e-10 3.35580395e-01 7.36784752e-01\n",
      " 3.20612670e-12 7.65407723e-01 3.59103782e-12 3.37034922e-12\n",
      " 5.93664136e-01 6.23517694e-01 1.31863966e+00 6.72457809e-01\n",
      " 1.38611331e+00 7.67605134e-01 4.68979247e-01 2.71942283e-12\n",
      " 2.58009075e-12 3.10723439e-12 4.14006018e-01 4.92640571e-01\n",
      " 5.12291015e-01 1.45615454e-12 2.20710259e-01 4.13909478e-12\n",
      " 2.94329615e-12 4.54341856e-12 1.03160887e-11 4.52638498e-12\n",
      " 5.53609148e-01 3.11267474e-12 1.81172966e-01 3.60356403e-12\n",
      " 1.44194614e+00 7.04849169e-11 5.83487238e-12 2.85946484e-12\n",
      " 2.35764820e-12 1.42746879e-11 3.23733863e-12 1.75070814e-01\n",
      " 6.34979784e-12 4.51182087e-01 2.44038504e-12 1.74703000e-12\n",
      " 3.67901931e-12 1.23982150e-11 4.46819729e-12 5.34608380e-12\n",
      " 9.36433213e-01 3.36686002e-02 1.99998406e-12 7.88214664e-01\n",
      " 2.27571796e-03 9.07257496e-01 3.59392476e-02 5.41492378e-01\n",
      " 2.65914692e-12 5.81298431e-01 9.59684002e-02 3.27678841e-12\n",
      " 1.67865506e-01 6.77564261e-01 2.06703389e-11 1.74554246e-01\n",
      " 3.86870092e-12 2.77264953e-01 1.77449476e-01 7.98442022e-11\n",
      " 2.99469079e-11 1.46567118e-11 1.56974779e-11 9.90978423e-12\n",
      " 1.68444243e-01 6.75751155e-01 4.87958116e-01 3.24119469e-12\n",
      " 4.43487029e-12 5.06325679e-01 2.23763376e-01 5.90207079e-01]\n"
     ]
    }
   ],
   "source": [
    "print(x)"
   ]
  },
  {
   "attachments": {},
   "cell_type": "markdown",
   "metadata": {},
   "source": [
    "## Solve by Log-barrier method\n",
    "In this case, we have the problem\n",
    "$$\\min t c^T x-log(x)\\quad \\text{subject to}\\quad  Ax=b$$"
   ]
  },
  {
   "cell_type": "code",
   "execution_count": 7,
   "metadata": {
    "ExecuteTime": {
     "end_time": "2023-04-25T20:30:32.696768Z",
     "start_time": "2023-04-25T20:30:32.692390Z"
    }
   },
   "outputs": [],
   "source": [
    "from functions import newton_eq\n"
   ]
  },
  {
   "cell_type": "code",
   "execution_count": 8,
   "metadata": {
    "ExecuteTime": {
     "end_time": "2023-04-25T20:30:34.319790Z",
     "start_time": "2023-04-25T20:30:32.697291Z"
    }
   },
   "outputs": [],
   "source": [
    "t = 10\n",
    "x_inner = x0.copy()\n",
    "while m/t > TOL:\n",
    "    f = lambda x: t*c.dot(x) - np.sum(np.log(x))\n",
    "    grad_f = lambda x: t*c - 1/x\n",
    "    nabla_f = lambda x: np.diag(1/x**2)\n",
    "\n",
    "    x,fx_list = newton_eq(f, grad_f, nabla_f, x_inner, A, b, dom_f=lambda x:np.all(x>0), MAXITERS=50, TOL=1e-5, alpha=0.001, beta=0.8)\n",
    "    x_inner = x[-1]\n",
    "    t *= mu"
   ]
  },
  {
   "cell_type": "code",
   "execution_count": 9,
   "metadata": {},
   "outputs": [
    {
     "data": {
      "text/plain": [
       "array([1.36078728e+00, 1.48960559e-02, 9.80018487e-01, 2.11154631e+00,\n",
       "       1.85426935e-10, 1.22787330e+00, 2.02146742e-09, 5.93324028e-11,\n",
       "       5.36186916e-10, 1.12420125e-01, 3.08665590e-10, 1.37299697e+00,\n",
       "       1.25346579e-10, 2.28071333e-10, 7.69382594e-03, 1.88775475e-10,\n",
       "       2.07429199e-07, 5.40762418e-10, 1.70606826e-01, 3.13431358e-02,\n",
       "       1.35165597e+00, 5.89185298e-09, 3.35565701e-01, 7.36816705e-01,\n",
       "       1.37621738e-10, 7.65399135e-01, 1.54143902e-10, 1.44670943e-10,\n",
       "       5.93645270e-01, 6.23501321e-01, 1.31865438e+00, 6.72460571e-01,\n",
       "       1.38610312e+00, 7.67614930e-01, 4.68980860e-01, 1.16730172e-10,\n",
       "       1.10749394e-10, 1.33376830e-10, 4.14012279e-01, 4.92633527e-01,\n",
       "       5.12279733e-01, 6.25048675e-11, 2.20718253e-01, 1.77669034e-10,\n",
       "       1.26339847e-10, 1.95024457e-10, 4.42814080e-10, 1.94293299e-10,\n",
       "       5.53599732e-01, 1.33610376e-10, 1.81168619e-01, 1.54681585e-10,\n",
       "       1.44194001e+00, 3.02553705e-09, 2.50459660e-10, 1.22741429e-10,\n",
       "       1.01201130e-10, 6.12735427e-10, 1.38961517e-10, 1.75078851e-01,\n",
       "       2.72562550e-10, 4.51189910e-01, 1.04752581e-10, 7.49905844e-11,\n",
       "       1.57920460e-10, 5.32188514e-10, 1.91795604e-10, 2.29478578e-10,\n",
       "       9.36440950e-01, 3.36616192e-02, 8.58485460e-11, 7.88214112e-01,\n",
       "       2.27326164e-03, 9.07256843e-01, 3.59323894e-02, 5.41494265e-01,\n",
       "       1.14142854e-10, 5.81323946e-01, 9.59635025e-02, 1.40654887e-10,\n",
       "       1.67892396e-01, 6.77556615e-01, 8.87266136e-10, 1.74557202e-01,\n",
       "       1.66062464e-10, 2.77267815e-01, 1.77417632e-01, 3.42728357e-09,\n",
       "       1.28546053e-09, 6.29133342e-10, 6.73808144e-10, 4.25373550e-10,\n",
       "       1.68461342e-01, 6.75767605e-01, 4.87942990e-01, 1.39127014e-10,\n",
       "       1.90365083e-10, 5.06310633e-01, 2.23755940e-01, 5.90209679e-01])"
      ]
     },
     "execution_count": 9,
     "metadata": {},
     "output_type": "execute_result"
    }
   ],
   "source": [
    "x_inner"
   ]
  },
  {
   "attachments": {},
   "cell_type": "markdown",
   "metadata": {},
   "source": [
    "We can see that this is not stable. We need to choose alpha carefully, otherwise it will not converge. The primal-dual method is more stable than barrier method."
   ]
  }
 ],
 "metadata": {
  "kernelspec": {
   "display_name": "cs526",
   "language": "python",
   "name": "cs526"
  },
  "language_info": {
   "codemirror_mode": {
    "name": "ipython",
    "version": 3
   },
   "file_extension": ".py",
   "mimetype": "text/x-python",
   "name": "python",
   "nbconvert_exporter": "python",
   "pygments_lexer": "ipython3",
   "version": "3.9.16"
  },
  "orig_nbformat": 4
 },
 "nbformat": 4,
 "nbformat_minor": 2
}
