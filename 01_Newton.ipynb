{
 "cells": [
  {
   "attachments": {},
   "cell_type": "markdown",
   "metadata": {},
   "source": [
    "# Different example\n",
    "$$\\min_x c^Tx-\\sum_{i=1}^m\\log(b_i-a_i^T x)$$"
   ]
  },
  {
   "cell_type": "code",
   "execution_count": 108,
   "metadata": {},
   "outputs": [],
   "source": [
    "# Set the seed\n",
    "# np.random.seed()\n",
    "import numpy as np\n",
    "from functions import *\n",
    "m = 500\n",
    "n = 100\n",
    "\n",
    "A = np.random.randn(m, n)\n",
    "x0 = np.random.random(n)\n",
    "b = A.dot(x0)+1\n",
    "c = np.random.randn(n)\n",
    "\n",
    "f = lambda x: c.dot(x)-np.sum(np.log(b-A.dot(x)))\n",
    "grad_f = lambda x: c+A.T.dot(1/(b-A.dot(x)))\n",
    "nabla_f = lambda x: A.T.dot(np.diag(1/(b-A.dot(x))**2)).dot(A)\n",
    "\n",
    "decrement = lambda dx, x: (dx.dot(nabla_f(x).dot(dx)))**2/2\n",
    "dom_f = lambda x: np.all(b-A.dot(x)>0)\n"
   ]
  },
  {
   "cell_type": "code",
   "execution_count": 109,
   "metadata": {},
   "outputs": [
    {
     "name": "stdout",
     "output_type": "stream",
     "text": [
      "Iteration: 1, decrement: 46.2795335038\n",
      "Iteration: 2, decrement: 20.1476372775\n",
      "Iteration: 3, decrement: 1.2506454020\n",
      "Iteration: 4, decrement: 0.2172685720\n",
      "Iteration: 5, decrement: 0.0300012381\n",
      "Iteration: 6, decrement: 0.0006080105\n",
      "Iteration: 7, decrement: 0.0000002514\n",
      "Iteration: 8, decrement: 0.0000000000\n"
     ]
    }
   ],
   "source": [
    "x_n, v_n = newton(f, grad_f, nabla_f, x0, A=A, b=b, dom_f=dom_f, MAXITERS=100, TOL=1e-8,alpha = 0.0001, beta = 0.5, print_iter=True, eq=False, N=1)"
   ]
  },
  {
   "cell_type": "code",
   "execution_count": 110,
   "metadata": {},
   "outputs": [],
   "source": [
    "x_q, v_q = quasi_newton(f, grad_f, x0, A=A, b=b, dom_f=dom_f, MAXITERS=1000, TOL=1e-8, alpha = 0.0001, beta = 0.5, print_iter=False,N=1)"
   ]
  },
  {
   "cell_type": "code",
   "execution_count": 111,
   "metadata": {},
   "outputs": [
    {
     "data": {
      "text/plain": [
       "<matplotlib.legend.Legend at 0x7f399c2fcc40>"
      ]
     },
     "execution_count": 111,
     "metadata": {},
     "output_type": "execute_result"
    },
    {
     "data": {
      "image/png": "[encoded data removed]",
      "text/plain": [
       "<Figure size 640x480 with 1 Axes>"
      ]
     },
     "metadata": {},
     "output_type": "display_data"
    }
   ],
   "source": [
    "plot_error_iter(x_n, v_n, v_n[-1], \"Newton's method\")\n",
    "plot_error_iter(x_q, v_q, v_n[-1], \"Quasi-Newton's method\",color='red')\n",
    "plt.legend()"
   ]
  },
  {
   "cell_type": "code",
   "execution_count": 116,
   "metadata": {},
   "outputs": [],
   "source": [
    "import numpy as np\n",
    "from scipy.optimize import line_search\n",
    "dom_f = lambda x: np.all(b-A.dot(x)>0)\n",
    "def lbfgs(f, grad_f, x0, M=10, max_iters=100, tolerance=1e-8, alpha=1e-4, beta=0.9):\n",
    "    n = len(x0)\n",
    "    x = x0.copy()\n",
    "    grad = grad_f(x)\n",
    "    obj = f(x)\n",
    "    grad_norm = np.linalg.norm(grad)\n",
    "    step_size = 1.0\n",
    "    \n",
    "    s_list = []\n",
    "    y_list = []\n",
    "    rho_list = []\n",
    "    \n",
    "    for _ in range(max_iters):\n",
    "        print(grad_norm)\n",
    "        if grad_norm < tolerance:\n",
    "            \n",
    "            break\n",
    "\n",
    "        p = -grad\n",
    "        if len(s_list) > 0:\n",
    "            q = p.copy()\n",
    "            alphas = []\n",
    "            \n",
    "            for s, y, rho in zip(s_list[::-1], y_list[::-1], rho_list[::-1]):\n",
    "                alpha = rho * np.dot(s, q)\n",
    "                q -= alpha * y\n",
    "                alphas.append(alpha)\n",
    "            \n",
    "            r = step_size * q\n",
    "            \n",
    "            for s, y, rho, alpha in zip(s_list, y_list, rho_list, alphas[::-1]):\n",
    "                beta = rho * np.dot(y, r)\n",
    "                r += (alpha - beta) * s\n",
    "            \n",
    "            p = r\n",
    "        \n",
    "        step_size = 1\n",
    "        while not dom_f(x + step_size*p):\n",
    "            step_size *= beta\n",
    "        # Backtracking line search.\n",
    "        while f(x + step_size*p) > f(x) - alpha * step_size * grad_norm:\n",
    "            step_size *= beta\n",
    "        x += step_size * p\n",
    "        new_grad = grad_f(x)\n",
    "        \n",
    "        if step_size < tolerance:\n",
    "            break\n",
    "        \n",
    "        s = step_size * p\n",
    "        y = new_grad - grad\n",
    "        rho = 1.0 / np.dot(y, s)\n",
    "        \n",
    "        if np.isinf(rho):\n",
    "            break\n",
    "        \n",
    "        s_list.append(s)\n",
    "        y_list.append(y)\n",
    "        rho_list.append(rho)\n",
    "        \n",
    "        if len(s_list) > M:\n",
    "            s_list.pop(0)\n",
    "            y_list.pop(0)\n",
    "            rho_list.pop(0)\n",
    "        \n",
    "        grad = new_grad\n",
    "        obj = f(x)\n",
    "        grad_norm = np.linalg.norm(grad)\n",
    "    \n",
    "    return x\n"
   ]
  },
  {
   "cell_type": "code",
   "execution_count": 117,
   "metadata": {},
   "outputs": [
    {
     "name": "stdout",
     "output_type": "stream",
     "text": [
      "229.66023617512428\n"
     ]
    },
    {
     "ename": "NameError",
     "evalue": "name 'dx' is not defined",
     "output_type": "error",
     "traceback": [
      "\u001b[0;31m---------------------------------------------------------------------------\u001b[0m",
      "\u001b[0;31mNameError\u001b[0m                                 Traceback (most recent call last)",
      "Cell \u001b[0;32mIn[117], line 1\u001b[0m\n\u001b[0;32m----> 1\u001b[0m x \u001b[39m=\u001b[39m lbfgs(f, grad_f, x0, M\u001b[39m=\u001b[39;49m\u001b[39m10\u001b[39;49m, max_iters\u001b[39m=\u001b[39;49m\u001b[39m100\u001b[39;49m, tolerance\u001b[39m=\u001b[39;49m\u001b[39m1e-8\u001b[39;49m, alpha\u001b[39m=\u001b[39;49m\u001b[39m1e-4\u001b[39;49m, beta\u001b[39m=\u001b[39;49m\u001b[39m0.9\u001b[39;49m)\n",
      "Cell \u001b[0;32mIn[116], line 41\u001b[0m, in \u001b[0;36mlbfgs\u001b[0;34m(f, grad_f, x0, M, max_iters, tolerance, alpha, beta)\u001b[0m\n\u001b[1;32m     38\u001b[0m     p \u001b[39m=\u001b[39m r\n\u001b[1;32m     40\u001b[0m step_size \u001b[39m=\u001b[39m \u001b[39m1\u001b[39m\n\u001b[0;32m---> 41\u001b[0m \u001b[39mwhile\u001b[39;00m \u001b[39mnot\u001b[39;00m dom_f(x \u001b[39m+\u001b[39m step_size\u001b[39m*\u001b[39mdx):\n\u001b[1;32m     42\u001b[0m     step_size \u001b[39m*\u001b[39m\u001b[39m=\u001b[39m beta\n\u001b[1;32m     43\u001b[0m \u001b[39m# Backtracking line search.\u001b[39;00m\n",
      "\u001b[0;31mNameError\u001b[0m: name 'dx' is not defined"
     ]
    }
   ],
   "source": [
    "x = lbfgs(f, grad_f, x0, M=10, max_iters=100, tolerance=1e-8, alpha=1e-4, beta=0.9)"
   ]
  },
  {
   "cell_type": "code",
   "execution_count": null,
   "metadata": {},
   "outputs": [],
   "source": []
  }
 ],
 "metadata": {
  "kernelspec": {
   "display_name": "cs526",
   "language": "python",
   "name": "cs526"
  },
  "language_info": {
   "codemirror_mode": {
    "name": "ipython",
    "version": 3
   },
   "file_extension": ".py",
   "mimetype": "text/x-python",
   "name": "python",
   "nbconvert_exporter": "python",
   "pygments_lexer": "ipython3",
   "version": "3.9.16"
  }
 },
 "nbformat": 4,
 "nbformat_minor": 0
}
