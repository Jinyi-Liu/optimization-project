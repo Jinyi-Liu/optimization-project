{
 "cells": [
  {
   "attachments": {},
   "cell_type": "markdown",
   "metadata": {},
   "source": [
    "# Different example\n",
    "$$\\min_x c^Tx-\\sum_{i=1}^m\\log(b_i-a_i^T x)$$"
   ]
  },
  {
   "cell_type": "code",
   "execution_count": null,
   "metadata": {},
   "outputs": [],
   "source": [
    "# Set the seed\n",
    "# np.random.seed()\n",
    "import numpy as np\n",
    "from functions import *\n",
    "m = 2000\n",
    "n = 200\n",
    "\n",
    "A = np.random.randn(m, n)\n",
    "x0 = np.random.random(n)\n",
    "b = A.dot(x0) + np.random.random(m)\n",
    "c = np.random.randn(n)\n",
    "\n",
    "f = lambda x: c.dot(x)-np.sum(np.log(b-A.dot(x)))\n",
    "grad_f = lambda x: c+A.T.dot(1/(b-A.dot(x)))\n",
    "nabla_f = lambda x: A.T.dot(np.diag(1/(b-A.dot(x))**2)).dot(A)\n",
    "\n",
    "decrement = lambda dx, x: (dx.dot(nabla_f(x).dot(dx)))**2/2\n",
    "dom_f = lambda x: np.all(b-A.dot(x)>0)\n"
   ]
  },
  {
   "cell_type": "code",
   "execution_count": 153,
   "metadata": {},
   "outputs": [],
   "source": [
    "v_n = newton(f, grad_f, nabla_f, x0, A=A, b=b, dom_f=dom_f, MAXITERS=100, TOL=1e-8,alpha = 0.0001, beta = 0.5, print_iter=True, eq=False, N=1)"
   ]
  },
  {
   "cell_type": "code",
   "execution_count": null,
   "metadata": {},
   "outputs": [],
   "source": [
    "v_q = quasi_newton(f, grad_f, x0, A=A, b=b, dom_f=dom_f, MAXITERS=1000, TOL=1e-8, alpha = 0.0001, beta = 0.5, print_iter=False,N=5)"
   ]
  },
  {
   "cell_type": "code",
   "execution_count": null,
   "metadata": {},
   "outputs": [],
   "source": [
    "\n",
    "plot_error_iter(v_n, v_n[-1], \"Newton's method\")\n",
    "plot_error_iter(v_q, v_n[-1], \"Quasi-Newton's method\",color='red')\n",
    "plt.xlabel(\"Iteration\")\n",
    "plt.ylabel(\"Error\")\n",
    "plt.legend()"
   ]
  },
  {
   "cell_type": "code",
   "execution_count": null,
   "metadata": {},
   "outputs": [],
   "source": []
  }
 ],
 "metadata": {
  "kernelspec": {
   "display_name": "cs526",
   "language": "python",
   "name": "cs526"
  },
  "language_info": {
   "codemirror_mode": {
    "name": "ipython",
    "version": 3
   },
   "file_extension": ".py",
   "mimetype": "text/x-python",
   "name": "python",
   "nbconvert_exporter": "python",
   "pygments_lexer": "ipython3",
   "version": "3.9.16"
  }
 },
 "nbformat": 4,
 "nbformat_minor": 0
}
