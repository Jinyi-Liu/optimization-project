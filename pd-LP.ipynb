{
 "cells": [
  {
   "attachments": {},
   "cell_type": "markdown",
   "metadata": {},
   "source": [
    "$$\\min c^T x \\quad\\text{subject to}\\quad Ax\\leq b $$\n",
    "$$\\max -b^T z \\quad\\text{subject to}\\quad A^T z+c=0, z\\geq 0.$$"
   ]
  },
  {
   "cell_type": "code",
   "execution_count": 139,
   "metadata": {},
   "outputs": [],
   "source": [
    "import numpy as np"
   ]
  },
  {
   "cell_type": "code",
   "execution_count": 140,
   "metadata": {},
   "outputs": [],
   "source": [
    "m = 100\n",
    "n = 50\n",
    "A = np.random.randn(m, n)\n",
    "b = np.random.rand(m, )\n",
    "z0 = np.random.rand(m, )\n",
    "# To make the dual is feasible at the equality: A^T z + c == 0.\n",
    "c = -A.T@z0\n",
    "# linprog\n",
    "from scipy.optimize import linprog\n",
    "res = linprog(c, A_ub=A, b_ub=b, method='highs')\n",
    "x = res.x\n",
    "s = (1-c.T@x)/np.linalg.norm(c)**2\n",
    "b = b + s * A @ c\n",
    "x0 = s * c"
   ]
  },
  {
   "cell_type": "code",
   "execution_count": 141,
   "metadata": {},
   "outputs": [
    {
     "name": "stdout",
     "output_type": "stream",
     "text": [
      "iter: 0, gap: 100.0, res_dual: 894.2484227434305\n",
      "iter: 1, gap: 16.110453809592254, res_dual: 62.87045520059464\n",
      "iter: 2, gap: 10.00560600303271, res_dual: 36.385843937668\n",
      "iter: 3, gap: 4.685846439421022, res_dual: 15.21988448711682\n",
      "iter: 4, gap: 2.75725402848967, res_dual: 8.395407707303848\n",
      "iter: 5, gap: 2.36506071646642, res_dual: 7.089395797157947\n",
      "iter: 6, gap: 1.9967558630547144, res_dual: 5.938385186614892\n",
      "iter: 7, gap: 1.685513313931276, res_dual: 4.958607726885616\n",
      "iter: 8, gap: 1.4902481378872692, res_dual: 4.335913532042667\n",
      "iter: 9, gap: 1.0375154994287343, res_dual: 2.9397477073061653\n",
      "iter: 10, gap: 0.7501242097581367, res_dual: 2.0567149578277704\n",
      "iter: 11, gap: 0.3989155026969691, res_dual: 1.0270256606048613\n",
      "iter: 12, gap: 0.23112306150126208, res_dual: 0.5671979693261456\n",
      "iter: 13, gap: 0.18923855441964219, res_dual: 0.45503044366813566\n",
      "iter: 14, gap: 0.121624248343835, res_dual: 0.27763031384888953\n",
      "iter: 15, gap: 0.05544020652380569, res_dual: 0.11162515530876196\n",
      "iter: 16, gap: 0.02846624229865307, res_dual: 0.0525801695097489\n",
      "iter: 17, gap: 0.01415017743668083, res_dual: 0.0239500185358517\n",
      "iter: 18, gap: 0.008808544323009156, res_dual: 0.014045000696851948\n",
      "iter: 19, gap: 0.004840509643755197, res_dual: 0.007022500348427541\n",
      "iter: 20, gap: 0.00048242384335433943, res_dual: 9.449247530516898e-15\n",
      "iter: 21, gap: 4.8242384339127564e-05, res_dual: 7.902751322014755e-15\n",
      "iter: 22, gap: 4.824238435579625e-06, res_dual: 8.267108971731348e-15\n",
      "iter: 23, gap: 4.824238394531464e-07, res_dual: 8.132473203325073e-15\n",
      "iter: 24, gap: 4.8242397923478174e-08, res_dual: 7.649752892857897e-15\n"
     ]
    }
   ],
   "source": [
    "MAXITERS = 500\n",
    "TOL = 1e-8\n",
    "RESTOL = 1e-8\n",
    "MU = 10\n",
    "ALPHA = 0.01\n",
    "BETA = 0.5\n",
    "\n",
    "[m, n] = A.shape\n",
    "gaps = []\n",
    "resdls = []\n",
    "x = x0\n",
    "# -h(x)\n",
    "s = b - A @ x\n",
    "# The z is initialized to be the inverse of -h(x) so the initial gap is 100(dimensions) * 1\n",
    "z = 1 / s\n",
    "\n",
    "for iters in range(MAXITERS):\n",
    "    # Set the surrogate duality gap.\n",
    "    gap = s.T @ z\n",
    "    gaps.append(gap)\n",
    "    # res_dual\n",
    "    res = A.T @ z + c\n",
    "    # res_prime is empty since there is no equality constraints in the primal problem.\n",
    "    resdls.append(np.linalg.norm(res))\n",
    "\n",
    "    if gap < TOL and np.linalg.norm(res) < RESTOL:\n",
    "        break\n",
    "\n",
    "    tinv = gap / (m * MU)\n",
    "    sol = -np.linalg.solve(\n",
    "        np.block([\n",
    "                    [np.zeros((n, n)), A.T], \n",
    "                    [A, np.diag(-s / z)]\n",
    "                 ]),\n",
    "        np.concatenate((A.T @ z + c, -s + tinv * (1 / z)))\n",
    "    )\n",
    "\n",
    "    dx = sol[:n]\n",
    "    dz = sol[n:(n + m)]\n",
    "    ds = -A @ dx\n",
    "    \n",
    "    # backtracking line search\n",
    "    step = min(1.0, 0.99 / np.max(-dz / z))\n",
    "\n",
    "    while np.min(s + step * ds) <= 0:\n",
    "        step = BETA * step\n",
    "\n",
    "    newz = z + step * dz\n",
    "    newx = x + step * dx\n",
    "    news = s + step * ds\n",
    "    newr = np.concatenate((c + A.T @ newz, newz * news - tinv))\n",
    "\n",
    "    # Old residual.\n",
    "    r = np.concatenate((c + A.T @ z, z * s - tinv))\n",
    "    while np.linalg.norm(newr) > (1 - ALPHA * step) * np.linalg.norm(r):\n",
    "        step = BETA * step\n",
    "        newz = z + step * dz\n",
    "        newx = x + step * dx\n",
    "        news = s + step * ds\n",
    "        newr = np.concatenate((c + A.T @ newz, newz * news - tinv))\n",
    "        \n",
    "    x = newx\n",
    "    z = newz\n",
    "    s = b - A @ x\n",
    "    print('iter: {}, gap: {}, res_dual: {}'.format(iters, gap, np.linalg.norm(res)))\n"
   ]
  },
  {
   "cell_type": "code",
   "execution_count": 142,
   "metadata": {},
   "outputs": [],
   "source": [
    "from newton import newton"
   ]
  },
  {
   "attachments": {},
   "cell_type": "markdown",
   "metadata": {},
   "source": [
    "## Solve by Log-barrier method\n",
    "In this case, we have the problem\n",
    "$$\\min t c^T x-\\sum_{i=1}^m\\log(b_i-a_i^T x)$$"
   ]
  },
  {
   "cell_type": "code",
   "execution_count": 143,
   "metadata": {},
   "outputs": [
    {
     "name": "stdout",
     "output_type": "stream",
     "text": [
      "x:  [-0.24206887  0.15233649 -0.20740402  0.04782789 -0.11393889  0.08104318\n",
      " -0.07055877  0.09576275 -0.04364514 -0.10902914 -0.02719174  0.06773663\n",
      " -0.13100569  0.01561854  0.08616531  0.07975069 -0.05951669  0.04148461\n",
      "  0.01312011 -0.07625093 -0.1693231   0.04033728 -0.15916081  0.02789402\n",
      "  0.11340647  0.07808953 -0.01352823 -0.0969958  -0.05271809  0.00858672\n",
      "  0.09249804  0.0854395  -0.16170764 -0.13991566  0.12032338 -0.04428461\n",
      " -0.13360116 -0.00648328  0.02792178 -0.00762344 -0.00475129  0.09871693\n",
      "  0.22407866 -0.04578106 -0.16553744  0.01162974  0.06919277  0.12544177\n",
      " -0.01070682 -0.01046722]\n"
     ]
    }
   ],
   "source": [
    "mu=1000000\n",
    "t = 10\n",
    "x_inner = x0\n",
    "while m/t > TOL:\n",
    "    f = lambda x: t*c.dot(x) - np.sum(np.log(b-A@x))\n",
    "    grad_f = lambda x: t*c - A.T @ (1/(b-A@x))\n",
    "    nabla_f = lambda x: A.T @ np.diag(1/(b-A@x)**2) @ A\n",
    "\n",
    "    x = newton(f, grad_f, nabla_f, x_inner, A, b, MAXITERS=50, TOL=1e-5, alpha=0.0001, beta=0.8)\n",
    "    x_inner = x\n",
    "    t *= mu\n",
    "\n",
    "print('x: ', x)"
   ]
  },
  {
   "cell_type": "code",
   "execution_count": 144,
   "metadata": {},
   "outputs": [
    {
     "data": {
      "text/plain": [
       "array([-0.23604906,  0.12377964, -0.17639784,  0.03790132, -0.1062847 ,\n",
       "        0.11685993, -0.09015006,  0.05889853, -0.03352306, -0.10809468,\n",
       "       -0.03362739,  0.07375203, -0.11936696, -0.00976464,  0.08418517,\n",
       "        0.09705917, -0.06667397,  0.02236559,  0.01670618, -0.09751127,\n",
       "       -0.14900904,  0.04188163, -0.1648364 ,  0.04195258,  0.09487956,\n",
       "        0.05482955,  0.00820284, -0.06430692, -0.03197153,  0.00627827,\n",
       "        0.12504561,  0.09933419, -0.1618166 , -0.13074854,  0.14864624,\n",
       "       -0.05135016, -0.12330055, -0.00047283,  0.0081143 , -0.03976628,\n",
       "        0.00950227,  0.11194858,  0.15832168,  0.00500189, -0.17083775,\n",
       "        0.01676946,  0.0771982 ,  0.10031471,  0.01732026,  0.00190627])"
      ]
     },
     "execution_count": 144,
     "metadata": {},
     "output_type": "execute_result"
    }
   ],
   "source": [
    "newx"
   ]
  }
 ],
 "metadata": {
  "kernelspec": {
   "display_name": "Python 3 (ipykernel)",
   "language": "python",
   "name": "python3"
  },
  "language_info": {
   "codemirror_mode": {
    "name": "ipython",
    "version": 3
   },
   "file_extension": ".py",
   "mimetype": "text/x-python",
   "name": "python",
   "nbconvert_exporter": "python",
   "pygments_lexer": "ipython3",
   "version": "3.8.10"
  },
  "orig_nbformat": 4
 },
 "nbformat": 4,
 "nbformat_minor": 2
}
