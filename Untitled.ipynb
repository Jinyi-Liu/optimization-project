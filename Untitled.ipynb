{
 "cells": [
  {
   "cell_type": "code",
   "execution_count": 4,
   "id": "bdfe0ebf-665c-41b4-a519-3e5722158425",
   "metadata": {},
   "outputs": [
    {
     "name": "stdout",
     "output_type": "stream",
     "text": [
      "5 6\n",
      "3 4\n",
      "1 2\n"
     ]
    }
   ],
   "source": [
    "a = [1,3,5]\n",
    "b = [2,4,6]\n",
    "for u,v in zip(a[::-1],b[::-1]):\n",
    "    print(u,v)"
   ]
  },
  {
   "cell_type": "code",
   "execution_count": 5,
   "id": "742ba826-29bc-40cd-a39a-175c1ccdbc9e",
   "metadata": {},
   "outputs": [
    {
     "name": "stdout",
     "output_type": "stream",
     "text": [
      "['2', '1']\n"
     ]
    }
   ],
   "source": [
    "t = []\n",
    "t.insert(0,'1')\n",
    "t.insert(0,'2')\n",
    "print(t)"
   ]
  },
  {
   "cell_type": "code",
   "execution_count": null,
   "id": "43e9ed9c-02ca-4489-99e1-362b5dbaba76",
   "metadata": {},
   "outputs": [],
   "source": []
  }
 ],
 "metadata": {
  "kernelspec": {
   "display_name": "cs526",
   "language": "python",
   "name": "cs526"
  },
  "language_info": {
   "codemirror_mode": {
    "name": "ipython",
    "version": 3
   },
   "file_extension": ".py",
   "mimetype": "text/x-python",
   "name": "python",
   "nbconvert_exporter": "python",
   "pygments_lexer": "ipython3",
   "version": "3.9.16"
  }
 },
 "nbformat": 4,
 "nbformat_minor": 5
}
