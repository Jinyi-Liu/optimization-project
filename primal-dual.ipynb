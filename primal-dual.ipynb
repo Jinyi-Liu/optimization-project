{
 "cells": [
  {
   "cell_type": "code",
   "execution_count": 1,
   "metadata": {},
   "outputs": [],
   "source": [
    "import numpy as np\n",
    "from sympy import *"
   ]
  },
  {
   "cell_type": "code",
   "execution_count": 2,
   "metadata": {},
   "outputs": [],
   "source": [
    "x1, x2, x3 = symbols('x1 x2 x3')\n",
    "\n",
    "# Define the function\n",
    "f = 1/2*(10*x1**2+1*x2**2+10*x3**2)+5*log(1+exp(-x1-x2-x3))\n",
    "# Define the gradient of f\n",
    "df = Matrix([diff(f, x1), diff(f, x2), diff(f, x3)])\n",
    "hf = df.jacobian([x1, x2, x3])\n",
    "hf = lambdify((x1, x2, x3), hf)\n",
    "df = lambdify((x1, x2, x3), df)\n",
    "\n",
    "# Define the inequality constraints\n",
    "A_ = np.array([[1, 0, 0], [0, 1, 1]])\n",
    "b_ = Matrix(np.array([2, 0]))\n",
    "h = A_ @ Matrix([x1, x2, x3]) - b_\n",
    "dh = h.jacobian([x1, x2, x3])\n",
    "dh = lambdify((x1, x2, x3), dh)\n",
    "h = lambdify((x1, x2, x3), h)\n",
    "\n",
    "\n",
    "# Define the equality constraints\n",
    "A = np.array([[1 ,1, 0], [0, 1,0]])\n",
    "b = np.array([0.2, 1.2])\n",
    "\n",
    "\n"
   ]
  },
  {
   "cell_type": "code",
   "execution_count": 3,
   "metadata": {},
   "outputs": [],
   "source": [
    "def LHS(x, u, v, A=A, h=h, dh=dh, hx=hf):\n",
    "    diag_u = np.diag(u)\n",
    "    h = h(x[0],x[1],x[2])\n",
    "    h = h.reshape(-1)\n",
    "    diag_h = np.diag(h)\n",
    "    dhx = dh(x[0],x[1],x[2])\n",
    "    hx = hx(x[0],x[1],x[2])\n",
    "\n",
    "    return np.block([[hx, dhx.T, A.T],[-diag_u @ dhx,-diag_h,np.zeros((h.shape[0],A.shape[0]))],[A,np.zeros((A.shape[0], h.shape[0])), np.zeros((A.shape[0],A.shape[0]))]])\n",
    "\n",
    "def RHS(x, u, v, t, A=A, h=h, dh=dh, df=df):\n",
    "    rdual = df(x[0],x[1],x[2]).reshape(-1) + dh(x[0],x[1],x[2]).T @ u + A.T @ v\n",
    "    rcent = np.array(-np.diag(u) @ h(x[0],x[1],x[2]).reshape(-1)-1/t*np.ones(u.shape))\n",
    "    rpime = A@x - b\n",
    "    return np.block([-rdual, -rcent, -rpime])"
   ]
  },
  {
   "cell_type": "code",
   "execution_count": 4,
   "metadata": {},
   "outputs": [
    {
     "name": "stdout",
     "output_type": "stream",
     "text": [
      "0.6896551724137924\n",
      "0.8\n",
      "1.0\n",
      "1.0\n",
      "1.0\n",
      "1.0\n",
      "1.0\n"
     ]
    }
   ],
   "source": [
    "beta = 0.8\n",
    "alpha = 0.1\n",
    "x0 = np.array([0, 0, 0])\n",
    "u0 = np.array([1, 1])\n",
    "v0 = np.array([1, 1])\n",
    "ita0 = -h(x0[0],x0[1],x0[2]).reshape(-1)@u0\n",
    "mu0 = 10\n",
    "m = A.shape[0]\n",
    "t0 = mu0*m/ita0\n",
    "path = []\n",
    "while True:\n",
    "    path.append(x0)\n",
    "    x = np.array([x0[0],x0[1],x0[2],u0[0],u0[1],v0[0],v0[1]])\n",
    "    LHS_ = LHS(x0, u0, v0)\n",
    "    RHS_ = RHS(x0, u0, v0, t0)\n",
    "    delta = np.linalg.solve(LHS_, RHS_)\n",
    "    dx = delta[:3]\n",
    "    du = delta[3:5]\n",
    "    dv = delta[5:7]\n",
    "    if np.all(du>0):\n",
    "        s_max = 1\n",
    "    else:\n",
    "        s_max = np.min([1, np.min(-u0[du<0]/du[du<0])])\n",
    "    s = s_max\n",
    "    # line search\n",
    "    while True:\n",
    "        if np.all(h(x0[0]+s*dx[0],x0[1]+s*dx[1],x0[2]+s*dx[2])<0):\n",
    "            x1 = x0 + s*dx\n",
    "            u1 = u0 + s*du\n",
    "            v1 = v0 + s*dv\n",
    "            new_res = RHS(x1, u1, v1, t0)\n",
    "            if np.linalg.norm(new_res)<(1-alpha*s)*np.linalg.norm(RHS_):\n",
    "                break\n",
    "        else:\n",
    "            s = beta*s\n",
    "    print(s)\n",
    "    # Newton update\n",
    "    x0, u0, v0 = x1, u1, v1\n",
    "    ita = -h(x0[0],x0[1],x0[2]).reshape(-1)@u0\n",
    "    if ita<1e-6 and np.linalg.norm(RHS_[:3])**2+np.linalg.norm(RHS_[5:7])**2<1e-6:\n",
    "        break\n",
    "    t0 = mu0*m/ita"
   ]
  },
  {
   "cell_type": "code",
   "execution_count": 5,
   "metadata": {},
   "outputs": [
    {
     "data": {
      "text/plain": [
       "[array([0, 0, 0]),\n",
       " array([-0.68965517,  0.82758621, -0.89655172]),\n",
       " array([-0.93793103,  1.12551724, -1.1257623 ]),\n",
       " array([-1.        ,  1.2       , -1.20011944]),\n",
       " array([-1.        ,  1.2       , -1.20000997]),\n",
       " array([-1.      ,  1.2     , -1.200001]),\n",
       " array([-1.       ,  1.2      , -1.2000001])]"
      ]
     },
     "execution_count": 5,
     "metadata": {},
     "output_type": "execute_result"
    }
   ],
   "source": [
    "path"
   ]
  },
  {
   "cell_type": "code",
   "execution_count": null,
   "metadata": {},
   "outputs": [],
   "source": []
  },
  {
   "cell_type": "code",
   "execution_count": null,
   "metadata": {},
   "outputs": [],
   "source": []
  }
 ],
 "metadata": {
  "kernelspec": {
   "display_name": "Python 3 (ipykernel)",
   "language": "python",
   "name": "python3"
  },
  "orig_nbformat": 4
 },
 "nbformat": 4,
 "nbformat_minor": 2
}
