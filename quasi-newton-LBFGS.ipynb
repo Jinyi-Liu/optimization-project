{
 "cells": [
  {
   "attachments": {},
   "cell_type": "markdown",
   "metadata": {},
   "source": [
    "# Quasi-Newton\n",
    "Example: $$\\min -\\sum_{1=1}^m\\log(1-a_i^T x)-\\sum_{i=1}^n\\log\\left(1-x_i^2\\right)$$"
   ]
  },
  {
   "cell_type": "code",
   "execution_count": 36,
   "metadata": {
    "ExecuteTime": {
     "end_time": "2023-04-29T00:10:14.709803Z",
     "start_time": "2023-04-29T00:10:14.666779Z"
    },
    "collapsed": false
   },
   "outputs": [],
   "source": [
    "import numpy as np\n",
    "from newton import solve_by_cvx, newton"
   ]
  },
  {
   "cell_type": "code",
   "execution_count": 37,
   "metadata": {
    "ExecuteTime": {
     "end_time": "2023-04-29T00:10:14.709803Z",
     "start_time": "2023-04-29T00:10:14.709803Z"
    }
   },
   "outputs": [],
   "source": [
    "def quasi_newton_LBFGS(f, grad_f, x0, A, b, dom_f, MAXITERS=100, TOL=1e-8, alpha=0.01, beta=0.8, print_iter=False, M=1,\n",
    "                       diag_only=False, decrement_func=None):\n",
    "    MAXITERS = MAXITERS\n",
    "    TOL = TOL\n",
    "    alpha = alpha\n",
    "    beta = beta\n",
    "    f, grad_f, dom_f = f, grad_f, dom_f\n",
    "\n",
    "    x = x0.copy()\n",
    "    n = len(x)\n",
    "\n",
    "    if not decrement_func:\n",
    "        decrement = lambda dx: np.sum(dx**2)**0.5\n",
    "    else:\n",
    "        decrement = decrement_func\n",
    "\n",
    "    decrement_value_list = []\n",
    "    obj_list = [f(x)]\n",
    "    x_list = [x]\n",
    "\n",
    "    B = np.eye(n)\n",
    "    B_inv = np.eye(n)\n",
    "    grad = grad_f(x)\n",
    "\n",
    "    s_queue = []\n",
    "    y_queue = []\n",
    "\n",
    "    dx = -B_inv.dot(grad)\n",
    "    t = 1\n",
    "    for iters in range(1, MAXITERS):\n",
    "\n",
    "        decrement_value = decrement(t*dx)\n",
    "        decrement_value_list.append(decrement_value)\n",
    "        if decrement_value < TOL:\n",
    "            if print_iter:\n",
    "                print(\"Iteration: %d, decrement: %.10f\" % (iters, decrement_value))\n",
    "            break\n",
    "\n",
    "        t = 1\n",
    "        # Check if t*dx is in still in the domain.\n",
    "        while not dom_f(x + t * dx):\n",
    "            t *= beta\n",
    "        # Backtracking line search.\n",
    "        while f(x + t * dx) > f(x) - alpha * t * decrement_value:\n",
    "            t *= beta\n",
    "\n",
    "        # x_{t+1} - x_t = t*dx\n",
    "        s = t * dx\n",
    "        x_new = x + s\n",
    "        grad_new = grad_f(x_new)\n",
    "        y = grad_new - grad\n",
    "\n",
    "        if len(s_queue) == M:\n",
    "            s_queue.pop(0)\n",
    "            y_queue.pop(0)\n",
    "        s_queue.append(s)\n",
    "        y_queue.append(y)\n",
    "\n",
    "        if iters >= M:\n",
    "            alpha_queue = []\n",
    "            q = - grad_new\n",
    "            for s, y in zip(s_queue[::-1], y_queue[::-1]):\n",
    "                alpha = np.dot(s, q) / np.dot(y, s)\n",
    "                q = q - alpha * y\n",
    "                alpha_queue.insert(0, alpha)\n",
    "            p = q\n",
    "            for s, y, alpha in zip(s_queue, y_queue, alpha_queue):\n",
    "                beta_ = np.dot(y, p) / np.dot(y, s)\n",
    "                p = p + (alpha - beta_) * s\n",
    "            dx_new = -p\n",
    "        else:\n",
    "            dx_new = -B_inv.dot(grad_new)\n",
    "\n",
    "        grad = grad_new\n",
    "        x = x_new\n",
    "        dx = dx_new\n",
    "\n",
    "        x_list.append(x.copy())\n",
    "        obj_list.append(f(x))\n",
    "\n",
    "        if print_iter:\n",
    "            print(\"Iteration: %d, decrement: %.10f\" % (iters, decrement_value))\n",
    "    return np.array(x_list), obj_list\n",
    "\n",
    "\n",
    "# m: number of constraints\n",
    "# n: number of variables\n",
    "m = 500\n",
    "n = 2000\n",
    "A = np.random.randn(m, n)\n",
    "b = np.ones(m)\n",
    "\n",
    "f = lambda x: -np.sum(np.log(1 - A @ x)) - np.sum(np.log(1 - x ** 2))\n",
    "grad_f = lambda x: A.T @ (1 / (1 - A @ x)) + 2 * x / (1 - x ** 2)\n",
    "nabla_f = lambda x: A.T @ np.diag(1 / (1 - A @ x) ** 2) @ A + np.diag(2 / (1 - x ** 2) ** 2)\n",
    "\n",
    "\n",
    "def dom_f(x, A=A, b=b):\n",
    "    cons_1 = A @ x - b < 0\n",
    "    cons_2 = np.abs(x) - 1 < 0\n",
    "    return np.all(cons_1) and np.all(cons_2)\n",
    "\n",
    "# print(obj_list_quasi)"
   ]
  },
  {
   "cell_type": "code",
   "execution_count": 38,
   "metadata": {
    "ExecuteTime": {
     "end_time": "2023-04-29T00:10:14.711298Z",
     "start_time": "2023-04-29T00:10:14.709803Z"
    },
    "collapsed": false
   },
   "outputs": [],
   "source": [
    "# print(solve_by_cvx(A,b))"
   ]
  },
  {
   "cell_type": "code",
   "execution_count": 39,
   "metadata": {
    "ExecuteTime": {
     "end_time": "2023-04-29T00:10:15.798916Z",
     "start_time": "2023-04-29T00:10:14.711298Z"
    },
    "collapsed": false
   },
   "outputs": [
    {
     "name": "stdout",
     "output_type": "stream",
     "text": [
      "-1425.0005572642317\n"
     ]
    }
   ],
   "source": [
    "x_list_newton, obj_list_newton = newton(f, grad_f, nabla_f, np.zeros(n), A, b, dom_f, MAXITERS=50, TOL=1e-8, alpha=0.01, print_iter=False)\n",
    "print(obj_list_newton[-1])"
   ]
  },
  {
   "cell_type": "code",
   "execution_count": 40,
   "metadata": {
    "ExecuteTime": {
     "end_time": "2023-04-29T00:10:49.188337Z",
     "start_time": "2023-04-29T00:10:45.126365Z"
    },
    "collapsed": false
   },
   "outputs": [
    {
     "name": "stdout",
     "output_type": "stream",
     "text": [
      "32 -1425.0000290898652\n"
     ]
    }
   ],
   "source": [
    "x_list_quasi, obj_list_quasi = quasi_newton_LBFGS(f, grad_f, np.zeros(n), A, b,\n",
    "                                                  dom_f, MAXITERS=5000, TOL=1e-8, alpha=0.0001, print_iter=False,\n",
    "                                                  M=30, diag_only=False, decrement_func=None)\n",
    "print(len(obj_list_quasi), obj_list_quasi[-1])"
   ]
  },
  {
   "cell_type": "code",
   "execution_count": null,
   "metadata": {
    "ExecuteTime": {
     "end_time": "2023-04-29T00:10:42.180290Z",
     "start_time": "2023-04-29T00:10:42.171290Z"
    },
    "collapsed": false
   },
   "outputs": [],
   "source": []
  },
  {
   "cell_type": "code",
   "execution_count": null,
   "metadata": {
    "collapsed": false
   },
   "outputs": [],
   "source": []
  }
 ],
 "metadata": {
  "kernelspec": {
   "display_name": "cs526",
   "language": "python",
   "name": "cs526"
  },
  "language_info": {
   "codemirror_mode": {
    "name": "ipython",
    "version": 3
   },
   "file_extension": ".py",
   "mimetype": "text/x-python",
   "name": "python",
   "nbconvert_exporter": "python",
   "pygments_lexer": "ipython3",
   "version": "3.9.16"
  },
  "orig_nbformat": 4
 },
 "nbformat": 4,
 "nbformat_minor": 2
}
